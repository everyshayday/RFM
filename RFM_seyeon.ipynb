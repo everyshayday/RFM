{
 "cells": [
  {
   "cell_type": "markdown",
   "id": "683d8ade",
   "metadata": {},
   "source": [
    "# 라이브러리 로드"
   ]
  },
  {
   "cell_type": "code",
   "execution_count": 1,
   "id": "c3d03d1c",
   "metadata": {
    "ExecuteTime": {
     "end_time": "2023-06-22T07:16:51.733626Z",
     "start_time": "2023-06-22T07:16:50.611695Z"
    }
   },
   "outputs": [],
   "source": [
    "import numpy as np\n",
    "import pandas as pd\n",
    "import seaborn as sns\n",
    "import matplotlib.pyplot as plt\n",
    "import datetime as dt\n",
    "%matplotlib inline\n",
    "import koreanize_matplotlib\n",
    "%config InlineBackend.figure_format = 'retina'\n",
    "from tqdm import tqdm"
   ]
  },
  {
   "cell_type": "code",
   "execution_count": 2,
   "id": "8352f8d0",
   "metadata": {
    "ExecuteTime": {
     "end_time": "2023-06-22T07:16:51.757361Z",
     "start_time": "2023-06-22T07:16:51.736618Z"
    }
   },
   "outputs": [],
   "source": [
    "# 시각화 테마\n",
    "rc = {\n",
    "    \"axes.facecolor\": \"#FFF9ED\",\n",
    "    \"figure.facecolor\": \"#FFF9ED\",\n",
    "    \"axes.edgecolor\": \"#000000\",\n",
    "    \"grid.color\": \"#EBEBE7\",\n",
    "    \"font.family\": \"NanumSquareRound\", #\"serif\"\n",
    "    \"axes.labelcolor\": \"#000000\",\n",
    "    \"xtick.color\": \"#000000\",\n",
    "    \"ytick.color\": \"#000000\",\n",
    "    \"grid.alpha\": 0.4\n",
    "}\n",
    "\n",
    "sns.set(rc=rc)"
   ]
  },
  {
   "cell_type": "markdown",
   "id": "fe151f86",
   "metadata": {},
   "source": [
    "# 데이터 로드"
   ]
  },
  {
   "cell_type": "code",
   "execution_count": 3,
   "id": "ddcf3585",
   "metadata": {
    "ExecuteTime": {
     "end_time": "2023-06-22T07:16:51.830086Z",
     "start_time": "2023-06-22T07:16:51.757740Z"
    }
   },
   "outputs": [
    {
     "data": {
      "text/plain": [
       "(16858, 16)"
      ]
     },
     "execution_count": 3,
     "metadata": {},
     "output_type": "execute_result"
    }
   ],
   "source": [
    "df = pd.read_csv('sqd_data/최종결제데이터.csv', encoding='cp949').drop(columns='Unnamed: 0')\n",
    "df.shape"
   ]
  },
  {
   "cell_type": "code",
   "execution_count": 4,
   "id": "899c344d",
   "metadata": {
    "ExecuteTime": {
     "end_time": "2023-06-22T07:16:51.854072Z",
     "start_time": "2023-06-22T07:16:51.830086Z"
    }
   },
   "outputs": [
    {
     "data": {
      "text/html": [
       "<div>\n",
       "<style scoped>\n",
       "    .dataframe tbody tr th:only-of-type {\n",
       "        vertical-align: middle;\n",
       "    }\n",
       "\n",
       "    .dataframe tbody tr th {\n",
       "        vertical-align: top;\n",
       "    }\n",
       "\n",
       "    .dataframe thead th {\n",
       "        text-align: right;\n",
       "    }\n",
       "</style>\n",
       "<table border=\"1\" class=\"dataframe\">\n",
       "  <thead>\n",
       "    <tr style=\"text-align: right;\">\n",
       "      <th></th>\n",
       "      <th>휴일</th>\n",
       "      <th>일자</th>\n",
       "      <th>요일</th>\n",
       "      <th>시간</th>\n",
       "      <th>영수증번호</th>\n",
       "      <th>상품코드</th>\n",
       "      <th>품목</th>\n",
       "      <th>상품명</th>\n",
       "      <th>수량</th>\n",
       "      <th>가격</th>\n",
       "      <th>결제액</th>\n",
       "      <th>거래수단</th>\n",
       "      <th>카드번호</th>\n",
       "      <th>카드사</th>\n",
       "      <th>고객ID</th>\n",
       "      <th>강수량</th>\n",
       "    </tr>\n",
       "  </thead>\n",
       "  <tbody>\n",
       "    <tr>\n",
       "      <th>0</th>\n",
       "      <td>신정</td>\n",
       "      <td>2022-01-01</td>\n",
       "      <td>토</td>\n",
       "      <td>NaN</td>\n",
       "      <td>NaN</td>\n",
       "      <td>NaN</td>\n",
       "      <td>NaN</td>\n",
       "      <td>NaN</td>\n",
       "      <td>NaN</td>\n",
       "      <td>NaN</td>\n",
       "      <td>NaN</td>\n",
       "      <td>NaN</td>\n",
       "      <td>NaN</td>\n",
       "      <td>NaN</td>\n",
       "      <td>NaN</td>\n",
       "      <td>NaN</td>\n",
       "    </tr>\n",
       "    <tr>\n",
       "      <th>1</th>\n",
       "      <td>NaN</td>\n",
       "      <td>2022-01-02</td>\n",
       "      <td>일</td>\n",
       "      <td>11:45:31</td>\n",
       "      <td>1.0</td>\n",
       "      <td>10.0</td>\n",
       "      <td>커피</td>\n",
       "      <td>ice 카페라떼</td>\n",
       "      <td>1.0</td>\n",
       "      <td>4000.0</td>\n",
       "      <td>4000.0</td>\n",
       "      <td>신용</td>\n",
       "      <td>5137-92**-****-5821</td>\n",
       "      <td>롯데</td>\n",
       "      <td>8.579258e+10</td>\n",
       "      <td>NaN</td>\n",
       "    </tr>\n",
       "    <tr>\n",
       "      <th>2</th>\n",
       "      <td>NaN</td>\n",
       "      <td>2022-01-02</td>\n",
       "      <td>일</td>\n",
       "      <td>11:45:49</td>\n",
       "      <td>2.0</td>\n",
       "      <td>25.0</td>\n",
       "      <td>커피</td>\n",
       "      <td>코클슈페너</td>\n",
       "      <td>1.0</td>\n",
       "      <td>4500.0</td>\n",
       "      <td>4500.0</td>\n",
       "      <td>체크</td>\n",
       "      <td>9530-03**-****-6807</td>\n",
       "      <td>비씨</td>\n",
       "      <td>8.600368e+10</td>\n",
       "      <td>NaN</td>\n",
       "    </tr>\n",
       "    <tr>\n",
       "      <th>3</th>\n",
       "      <td>NaN</td>\n",
       "      <td>2022-01-02</td>\n",
       "      <td>일</td>\n",
       "      <td>13:54:42</td>\n",
       "      <td>3.0</td>\n",
       "      <td>2.0</td>\n",
       "      <td>에스프레소</td>\n",
       "      <td>스트라파짜토</td>\n",
       "      <td>2.0</td>\n",
       "      <td>4000.0</td>\n",
       "      <td>4000.0</td>\n",
       "      <td>체크</td>\n",
       "      <td>5365-10**-****-1328</td>\n",
       "      <td>국민</td>\n",
       "      <td>3.151013e+10</td>\n",
       "      <td>NaN</td>\n",
       "    </tr>\n",
       "    <tr>\n",
       "      <th>4</th>\n",
       "      <td>NaN</td>\n",
       "      <td>2022-01-02</td>\n",
       "      <td>일</td>\n",
       "      <td>13:55:49</td>\n",
       "      <td>4.0</td>\n",
       "      <td>28.0</td>\n",
       "      <td>커피</td>\n",
       "      <td>ice 바닐라라떼</td>\n",
       "      <td>1.0</td>\n",
       "      <td>4500.0</td>\n",
       "      <td>12000.0</td>\n",
       "      <td>신용</td>\n",
       "      <td>4890-16**-****-2001</td>\n",
       "      <td>현대</td>\n",
       "      <td>2.016200e+09</td>\n",
       "      <td>NaN</td>\n",
       "    </tr>\n",
       "  </tbody>\n",
       "</table>\n",
       "</div>"
      ],
      "text/plain": [
       "    휴일          일자 요일        시간  영수증번호  상품코드     품목        상품명   수량      가격  \\\n",
       "0   신정  2022-01-01  토       NaN    NaN   NaN    NaN        NaN  NaN     NaN   \n",
       "1  NaN  2022-01-02  일  11:45:31    1.0  10.0     커피   ice 카페라떼  1.0  4000.0   \n",
       "2  NaN  2022-01-02  일  11:45:49    2.0  25.0     커피      코클슈페너  1.0  4500.0   \n",
       "3  NaN  2022-01-02  일  13:54:42    3.0   2.0  에스프레소     스트라파짜토  2.0  4000.0   \n",
       "4  NaN  2022-01-02  일  13:55:49    4.0  28.0     커피  ice 바닐라라떼  1.0  4500.0   \n",
       "\n",
       "       결제액 거래수단                 카드번호  카드사          고객ID  강수량  \n",
       "0      NaN  NaN                  NaN  NaN           NaN  NaN  \n",
       "1   4000.0   신용  5137-92**-****-5821   롯데  8.579258e+10  NaN  \n",
       "2   4500.0   체크  9530-03**-****-6807   비씨  8.600368e+10  NaN  \n",
       "3   4000.0   체크  5365-10**-****-1328   국민  3.151013e+10  NaN  \n",
       "4  12000.0   신용  4890-16**-****-2001   현대  2.016200e+09  NaN  "
      ]
     },
     "execution_count": 4,
     "metadata": {},
     "output_type": "execute_result"
    }
   ],
   "source": [
    "df.head()"
   ]
  },
  {
   "cell_type": "code",
   "execution_count": 5,
   "id": "dc28a16b",
   "metadata": {
    "ExecuteTime": {
     "end_time": "2023-06-22T07:16:51.878541Z",
     "start_time": "2023-06-22T07:16:51.854370Z"
    }
   },
   "outputs": [
    {
     "data": {
      "text/html": [
       "<div>\n",
       "<style scoped>\n",
       "    .dataframe tbody tr th:only-of-type {\n",
       "        vertical-align: middle;\n",
       "    }\n",
       "\n",
       "    .dataframe tbody tr th {\n",
       "        vertical-align: top;\n",
       "    }\n",
       "\n",
       "    .dataframe thead th {\n",
       "        text-align: right;\n",
       "    }\n",
       "</style>\n",
       "<table border=\"1\" class=\"dataframe\">\n",
       "  <thead>\n",
       "    <tr style=\"text-align: right;\">\n",
       "      <th></th>\n",
       "      <th>휴일</th>\n",
       "      <th>일자</th>\n",
       "      <th>요일</th>\n",
       "      <th>시간</th>\n",
       "      <th>영수증번호</th>\n",
       "      <th>상품코드</th>\n",
       "      <th>품목</th>\n",
       "      <th>상품명</th>\n",
       "      <th>수량</th>\n",
       "      <th>가격</th>\n",
       "      <th>결제액</th>\n",
       "      <th>거래수단</th>\n",
       "      <th>카드번호</th>\n",
       "      <th>카드사</th>\n",
       "      <th>고객ID</th>\n",
       "      <th>강수량</th>\n",
       "    </tr>\n",
       "  </thead>\n",
       "  <tbody>\n",
       "    <tr>\n",
       "      <th>16853</th>\n",
       "      <td>NaN</td>\n",
       "      <td>2023-05-31</td>\n",
       "      <td>수</td>\n",
       "      <td>19:53:02</td>\n",
       "      <td>16.0</td>\n",
       "      <td>8.0</td>\n",
       "      <td>커피</td>\n",
       "      <td>ice 아메리카노</td>\n",
       "      <td>1.0</td>\n",
       "      <td>3500.0</td>\n",
       "      <td>3500.0</td>\n",
       "      <td>체크</td>\n",
       "      <td>5365-10**-****-3324</td>\n",
       "      <td>국민</td>\n",
       "      <td>3.351033e+10</td>\n",
       "      <td>1.3</td>\n",
       "    </tr>\n",
       "    <tr>\n",
       "      <th>16854</th>\n",
       "      <td>NaN</td>\n",
       "      <td>2023-05-31</td>\n",
       "      <td>수</td>\n",
       "      <td>20:23:01</td>\n",
       "      <td>17.0</td>\n",
       "      <td>8.0</td>\n",
       "      <td>커피</td>\n",
       "      <td>ice 아메리카노</td>\n",
       "      <td>3.0</td>\n",
       "      <td>10500.0</td>\n",
       "      <td>10500.0</td>\n",
       "      <td>신용</td>\n",
       "      <td>5585-26**-****-1818</td>\n",
       "      <td>국민</td>\n",
       "      <td>8.152618e+10</td>\n",
       "      <td>1.3</td>\n",
       "    </tr>\n",
       "    <tr>\n",
       "      <th>16855</th>\n",
       "      <td>NaN</td>\n",
       "      <td>2023-05-31</td>\n",
       "      <td>수</td>\n",
       "      <td>20:36:12</td>\n",
       "      <td>18.0</td>\n",
       "      <td>28.0</td>\n",
       "      <td>커피</td>\n",
       "      <td>ice 바닐라라떼</td>\n",
       "      <td>1.0</td>\n",
       "      <td>4500.0</td>\n",
       "      <td>8500.0</td>\n",
       "      <td>현금</td>\n",
       "      <td>NaN</td>\n",
       "      <td>NaN</td>\n",
       "      <td>2.305312e+07</td>\n",
       "      <td>1.3</td>\n",
       "    </tr>\n",
       "    <tr>\n",
       "      <th>16856</th>\n",
       "      <td>NaN</td>\n",
       "      <td>2023-05-31</td>\n",
       "      <td>수</td>\n",
       "      <td>20:36:12</td>\n",
       "      <td>18.0</td>\n",
       "      <td>35.0</td>\n",
       "      <td>논커피</td>\n",
       "      <td>ice 얼그레이</td>\n",
       "      <td>1.0</td>\n",
       "      <td>4000.0</td>\n",
       "      <td>8500.0</td>\n",
       "      <td>현금</td>\n",
       "      <td>NaN</td>\n",
       "      <td>NaN</td>\n",
       "      <td>2.305312e+07</td>\n",
       "      <td>1.3</td>\n",
       "    </tr>\n",
       "    <tr>\n",
       "      <th>16857</th>\n",
       "      <td>NaN</td>\n",
       "      <td>2023-05-31</td>\n",
       "      <td>수</td>\n",
       "      <td>20:45:54</td>\n",
       "      <td>19.0</td>\n",
       "      <td>8.0</td>\n",
       "      <td>커피</td>\n",
       "      <td>ice 아메리카노</td>\n",
       "      <td>2.0</td>\n",
       "      <td>7000.0</td>\n",
       "      <td>7000.0</td>\n",
       "      <td>신용</td>\n",
       "      <td>5239-30**-****-6604</td>\n",
       "      <td>현대</td>\n",
       "      <td>6.693066e+10</td>\n",
       "      <td>1.3</td>\n",
       "    </tr>\n",
       "  </tbody>\n",
       "</table>\n",
       "</div>"
      ],
      "text/plain": [
       "        휴일          일자 요일        시간  영수증번호  상품코드   품목        상품명   수량  \\\n",
       "16853  NaN  2023-05-31  수  19:53:02   16.0   8.0   커피  ice 아메리카노  1.0   \n",
       "16854  NaN  2023-05-31  수  20:23:01   17.0   8.0   커피  ice 아메리카노  3.0   \n",
       "16855  NaN  2023-05-31  수  20:36:12   18.0  28.0   커피  ice 바닐라라떼  1.0   \n",
       "16856  NaN  2023-05-31  수  20:36:12   18.0  35.0  논커피   ice 얼그레이  1.0   \n",
       "16857  NaN  2023-05-31  수  20:45:54   19.0   8.0   커피  ice 아메리카노  2.0   \n",
       "\n",
       "            가격      결제액 거래수단                 카드번호  카드사          고객ID  강수량  \n",
       "16853   3500.0   3500.0   체크  5365-10**-****-3324   국민  3.351033e+10  1.3  \n",
       "16854  10500.0  10500.0   신용  5585-26**-****-1818   국민  8.152618e+10  1.3  \n",
       "16855   4500.0   8500.0   현금                  NaN  NaN  2.305312e+07  1.3  \n",
       "16856   4000.0   8500.0   현금                  NaN  NaN  2.305312e+07  1.3  \n",
       "16857   7000.0   7000.0   신용  5239-30**-****-6604   현대  6.693066e+10  1.3  "
      ]
     },
     "execution_count": 5,
     "metadata": {},
     "output_type": "execute_result"
    }
   ],
   "source": [
    "df.tail()"
   ]
  },
  {
   "cell_type": "code",
   "execution_count": 6,
   "id": "30882d16",
   "metadata": {
    "ExecuteTime": {
     "end_time": "2023-06-22T07:16:51.903337Z",
     "start_time": "2023-06-22T07:16:51.880505Z"
    }
   },
   "outputs": [
    {
     "name": "stdout",
     "output_type": "stream",
     "text": [
      "<class 'pandas.core.frame.DataFrame'>\n",
      "RangeIndex: 16858 entries, 0 to 16857\n",
      "Data columns (total 16 columns):\n",
      " #   Column  Non-Null Count  Dtype  \n",
      "---  ------  --------------  -----  \n",
      " 0   휴일      657 non-null    object \n",
      " 1   일자      16858 non-null  object \n",
      " 2   요일      16858 non-null  object \n",
      " 3   시간      16799 non-null  object \n",
      " 4   영수증번호   16799 non-null  float64\n",
      " 5   상품코드    16799 non-null  float64\n",
      " 6   품목      16532 non-null  object \n",
      " 7   상품명     16799 non-null  object \n",
      " 8   수량      16799 non-null  float64\n",
      " 9   가격      16799 non-null  float64\n",
      " 10  결제액     16799 non-null  float64\n",
      " 11  거래수단    16799 non-null  object \n",
      " 12  카드번호    14152 non-null  object \n",
      " 13  카드사     14152 non-null  object \n",
      " 14  고객ID    16799 non-null  float64\n",
      " 15  강수량     5889 non-null   float64\n",
      "dtypes: float64(7), object(9)\n",
      "memory usage: 2.1+ MB\n"
     ]
    }
   ],
   "source": [
    "df.info()"
   ]
  },
  {
   "cell_type": "markdown",
   "id": "333c324d",
   "metadata": {},
   "source": [
    "# 전처리"
   ]
  },
  {
   "cell_type": "code",
   "execution_count": 7,
   "id": "a3ca5441",
   "metadata": {
    "ExecuteTime": {
     "end_time": "2023-06-22T07:16:51.927959Z",
     "start_time": "2023-06-22T07:16:51.903577Z"
    }
   },
   "outputs": [
    {
     "name": "stdout",
     "output_type": "stream",
     "text": [
      "<class 'pandas.core.frame.DataFrame'>\n",
      "RangeIndex: 16858 entries, 0 to 16857\n",
      "Data columns (total 16 columns):\n",
      " #   Column  Non-Null Count  Dtype         \n",
      "---  ------  --------------  -----         \n",
      " 0   휴일      657 non-null    object        \n",
      " 1   일자      16858 non-null  datetime64[ns]\n",
      " 2   요일      16858 non-null  object        \n",
      " 3   시간      16799 non-null  object        \n",
      " 4   영수증번호   16799 non-null  float64       \n",
      " 5   상품코드    16799 non-null  float64       \n",
      " 6   품목      16532 non-null  object        \n",
      " 7   상품명     16799 non-null  object        \n",
      " 8   수량      16799 non-null  float64       \n",
      " 9   가격      16799 non-null  float64       \n",
      " 10  결제액     16799 non-null  float64       \n",
      " 11  거래수단    16799 non-null  object        \n",
      " 12  카드번호    14152 non-null  object        \n",
      " 13  카드사     14152 non-null  object        \n",
      " 14  고객ID    16799 non-null  float64       \n",
      " 15  강수량     5889 non-null   float64       \n",
      "dtypes: datetime64[ns](1), float64(7), object(8)\n",
      "memory usage: 2.1+ MB\n"
     ]
    }
   ],
   "source": [
    "# '일자'를 날짜형식으로 변환\n",
    "df['일자'] = pd.to_datetime(df['일자'])\n",
    "df.info()"
   ]
  },
  {
   "cell_type": "code",
   "execution_count": 8,
   "id": "8990081c",
   "metadata": {
    "ExecuteTime": {
     "end_time": "2023-06-22T07:16:51.952382Z",
     "start_time": "2023-06-22T07:16:51.927959Z"
    }
   },
   "outputs": [
    {
     "data": {
      "text/html": [
       "<div>\n",
       "<style scoped>\n",
       "    .dataframe tbody tr th:only-of-type {\n",
       "        vertical-align: middle;\n",
       "    }\n",
       "\n",
       "    .dataframe tbody tr th {\n",
       "        vertical-align: top;\n",
       "    }\n",
       "\n",
       "    .dataframe thead th {\n",
       "        text-align: right;\n",
       "    }\n",
       "</style>\n",
       "<table border=\"1\" class=\"dataframe\">\n",
       "  <thead>\n",
       "    <tr style=\"text-align: right;\">\n",
       "      <th></th>\n",
       "      <th>휴일</th>\n",
       "      <th>일자</th>\n",
       "      <th>요일</th>\n",
       "      <th>시간</th>\n",
       "      <th>영수증번호</th>\n",
       "      <th>상품코드</th>\n",
       "      <th>품목</th>\n",
       "      <th>상품명</th>\n",
       "      <th>수량</th>\n",
       "      <th>가격</th>\n",
       "      <th>결제액</th>\n",
       "      <th>거래수단</th>\n",
       "      <th>카드번호</th>\n",
       "      <th>카드사</th>\n",
       "      <th>고객ID</th>\n",
       "      <th>강수량</th>\n",
       "      <th>방문시간대</th>\n",
       "    </tr>\n",
       "  </thead>\n",
       "  <tbody>\n",
       "    <tr>\n",
       "      <th>0</th>\n",
       "      <td>신정</td>\n",
       "      <td>2022-01-01</td>\n",
       "      <td>토</td>\n",
       "      <td>NaN</td>\n",
       "      <td>NaN</td>\n",
       "      <td>NaN</td>\n",
       "      <td>NaN</td>\n",
       "      <td>NaN</td>\n",
       "      <td>NaN</td>\n",
       "      <td>NaN</td>\n",
       "      <td>NaN</td>\n",
       "      <td>NaN</td>\n",
       "      <td>NaN</td>\n",
       "      <td>NaN</td>\n",
       "      <td>NaN</td>\n",
       "      <td>NaN</td>\n",
       "      <td>NaN</td>\n",
       "    </tr>\n",
       "    <tr>\n",
       "      <th>1</th>\n",
       "      <td>NaN</td>\n",
       "      <td>2022-01-02</td>\n",
       "      <td>일</td>\n",
       "      <td>11:45:31</td>\n",
       "      <td>1.0</td>\n",
       "      <td>10.0</td>\n",
       "      <td>커피</td>\n",
       "      <td>ice 카페라떼</td>\n",
       "      <td>1.0</td>\n",
       "      <td>4000.0</td>\n",
       "      <td>4000.0</td>\n",
       "      <td>신용</td>\n",
       "      <td>5137-92**-****-5821</td>\n",
       "      <td>롯데</td>\n",
       "      <td>8.579258e+10</td>\n",
       "      <td>NaN</td>\n",
       "      <td>11</td>\n",
       "    </tr>\n",
       "    <tr>\n",
       "      <th>2</th>\n",
       "      <td>NaN</td>\n",
       "      <td>2022-01-02</td>\n",
       "      <td>일</td>\n",
       "      <td>11:45:49</td>\n",
       "      <td>2.0</td>\n",
       "      <td>25.0</td>\n",
       "      <td>커피</td>\n",
       "      <td>코클슈페너</td>\n",
       "      <td>1.0</td>\n",
       "      <td>4500.0</td>\n",
       "      <td>4500.0</td>\n",
       "      <td>체크</td>\n",
       "      <td>9530-03**-****-6807</td>\n",
       "      <td>비씨</td>\n",
       "      <td>8.600368e+10</td>\n",
       "      <td>NaN</td>\n",
       "      <td>11</td>\n",
       "    </tr>\n",
       "  </tbody>\n",
       "</table>\n",
       "</div>"
      ],
      "text/plain": [
       "    휴일         일자 요일        시간  영수증번호  상품코드   품목       상품명   수량      가격  \\\n",
       "0   신정 2022-01-01  토       NaN    NaN   NaN  NaN       NaN  NaN     NaN   \n",
       "1  NaN 2022-01-02  일  11:45:31    1.0  10.0   커피  ice 카페라떼  1.0  4000.0   \n",
       "2  NaN 2022-01-02  일  11:45:49    2.0  25.0   커피     코클슈페너  1.0  4500.0   \n",
       "\n",
       "      결제액 거래수단                 카드번호  카드사          고객ID  강수량 방문시간대  \n",
       "0     NaN  NaN                  NaN  NaN           NaN  NaN   NaN  \n",
       "1  4000.0   신용  5137-92**-****-5821   롯데  8.579258e+10  NaN    11  \n",
       "2  4500.0   체크  9530-03**-****-6807   비씨  8.600368e+10  NaN    11  "
      ]
     },
     "execution_count": 8,
     "metadata": {},
     "output_type": "execute_result"
    }
   ],
   "source": [
    "# 방문 시간대 컬럼 만들기\n",
    "df['방문시간대'] = df['시간'].str[:2]\n",
    "df.head(3)"
   ]
  },
  {
   "cell_type": "markdown",
   "id": "add1d587",
   "metadata": {},
   "source": [
    "# RFM\n",
    ": 가치있는 고객을 추출해내어 이를 기준으로 고객을 분류할 수 있는 매우 간단하면서도 유용하게 사용될 수 있는 방법\n",
    "\n",
    "\n",
    "* Recency - 거래의 최근성: 고객이 얼마나 최근에 구입했는가? `일자`\n",
    "* Frequency - 거래빈도: 고객이 얼마나 빈번하게 우리 상품을 구입했나? `영수증번호`\n",
    "* Monetary - 거래규모: 고객이 구입했던 총 금액은 어느 정도인가? `결제액`"
   ]
  },
  {
   "cell_type": "markdown",
   "id": "d15e34a3",
   "metadata": {},
   "source": [
    "## Recency, Frequency, Monetary 컬럼 생성"
   ]
  },
  {
   "cell_type": "code",
   "execution_count": 9,
   "id": "7c5fc9ec",
   "metadata": {
    "ExecuteTime": {
     "end_time": "2023-06-22T07:16:51.968638Z",
     "start_time": "2023-06-22T07:16:51.952382Z"
    }
   },
   "outputs": [
    {
     "data": {
      "text/plain": [
       "(Timestamp('2023-05-31 00:00:00'), Timestamp('2023-06-01 00:00:00'))"
      ]
     },
     "execution_count": 9,
     "metadata": {},
     "output_type": "execute_result"
    }
   ],
   "source": [
    "# Recency 계산을 위해 해당 주문에서 가장 최근 구매가 일어난 시간을 가져옵니다.\n",
    "# 최근 거래 기준일(last_timestamp)을 만들기 위해 timedelta로 날짜를 더해줍니다.(최소값:1 설정) \n",
    "\n",
    "last_timestamp = df['일자'].max() + dt.timedelta(days=1) # 230531 기준\n",
    "df['일자'].max(), last_timestamp"
   ]
  },
  {
   "cell_type": "code",
   "execution_count": 76,
   "id": "b751d334",
   "metadata": {
    "ExecuteTime": {
     "end_time": "2023-06-22T07:44:03.528331Z",
     "start_time": "2023-06-22T07:44:01.207695Z"
    }
   },
   "outputs": [
    {
     "data": {
      "text/html": [
       "<div>\n",
       "<style scoped>\n",
       "    .dataframe tbody tr th:only-of-type {\n",
       "        vertical-align: middle;\n",
       "    }\n",
       "\n",
       "    .dataframe tbody tr th {\n",
       "        vertical-align: top;\n",
       "    }\n",
       "\n",
       "    .dataframe thead th {\n",
       "        text-align: right;\n",
       "    }\n",
       "</style>\n",
       "<table border=\"1\" class=\"dataframe\">\n",
       "  <thead>\n",
       "    <tr style=\"text-align: right;\">\n",
       "      <th></th>\n",
       "      <th>Recency</th>\n",
       "      <th>Frequency</th>\n",
       "      <th>Monetary</th>\n",
       "    </tr>\n",
       "    <tr>\n",
       "      <th>고객ID</th>\n",
       "      <th></th>\n",
       "      <th></th>\n",
       "      <th></th>\n",
       "    </tr>\n",
       "  </thead>\n",
       "  <tbody>\n",
       "    <tr>\n",
       "      <th>1.910000e+02</th>\n",
       "      <td>48</td>\n",
       "      <td>1</td>\n",
       "      <td>8000.0</td>\n",
       "    </tr>\n",
       "    <tr>\n",
       "      <th>3.001200e+06</th>\n",
       "      <td>118</td>\n",
       "      <td>3</td>\n",
       "      <td>8500.0</td>\n",
       "    </tr>\n",
       "    <tr>\n",
       "      <th>3.004800e+06</th>\n",
       "      <td>418</td>\n",
       "      <td>1</td>\n",
       "      <td>3500.0</td>\n",
       "    </tr>\n",
       "    <tr>\n",
       "      <th>3.600059e+06</th>\n",
       "      <td>83</td>\n",
       "      <td>3</td>\n",
       "      <td>43600.0</td>\n",
       "    </tr>\n",
       "    <tr>\n",
       "      <th>3.800026e+06</th>\n",
       "      <td>173</td>\n",
       "      <td>1</td>\n",
       "      <td>10500.0</td>\n",
       "    </tr>\n",
       "    <tr>\n",
       "      <th>...</th>\n",
       "      <td>...</td>\n",
       "      <td>...</td>\n",
       "      <td>...</td>\n",
       "    </tr>\n",
       "    <tr>\n",
       "      <th>9.988000e+10</th>\n",
       "      <td>179</td>\n",
       "      <td>1</td>\n",
       "      <td>17000.0</td>\n",
       "    </tr>\n",
       "    <tr>\n",
       "      <th>9.991300e+10</th>\n",
       "      <td>500</td>\n",
       "      <td>1</td>\n",
       "      <td>9500.0</td>\n",
       "    </tr>\n",
       "    <tr>\n",
       "      <th>9.991500e+10</th>\n",
       "      <td>488</td>\n",
       "      <td>1</td>\n",
       "      <td>11000.0</td>\n",
       "    </tr>\n",
       "    <tr>\n",
       "      <th>9.991600e+10</th>\n",
       "      <td>407</td>\n",
       "      <td>1</td>\n",
       "      <td>3500.0</td>\n",
       "    </tr>\n",
       "    <tr>\n",
       "      <th>9.996699e+10</th>\n",
       "      <td>5</td>\n",
       "      <td>1</td>\n",
       "      <td>7500.0</td>\n",
       "    </tr>\n",
       "  </tbody>\n",
       "</table>\n",
       "<p>6683 rows × 3 columns</p>\n",
       "</div>"
      ],
      "text/plain": [
       "              Recency  Frequency  Monetary\n",
       "고객ID                                      \n",
       "1.910000e+02       48          1    8000.0\n",
       "3.001200e+06      118          3    8500.0\n",
       "3.004800e+06      418          1    3500.0\n",
       "3.600059e+06       83          3   43600.0\n",
       "3.800026e+06      173          1   10500.0\n",
       "...               ...        ...       ...\n",
       "9.988000e+10      179          1   17000.0\n",
       "9.991300e+10      500          1    9500.0\n",
       "9.991500e+10      488          1   11000.0\n",
       "9.991600e+10      407          1    3500.0\n",
       "9.996699e+10        5          1    7500.0\n",
       "\n",
       "[6683 rows x 3 columns]"
      ]
     },
     "execution_count": 76,
     "metadata": {},
     "output_type": "execute_result"
    }
   ],
   "source": [
    "# RFM 데이터프레임만들기\n",
    "# Recency : 최근 거래 기준일(last_timestamp)과 고객별 최근 구매한 날짜(x.max())와 차이값\n",
    "# Frequency : 구매 빈도수\n",
    "# Monetary : 총 구매 금액\n",
    "rfm = df.groupby(\"고객ID\").agg({\"일자\": [lambda x : (last_timestamp - x.max()).days, \"nunique\"], # '재주문'이 아닌 '재방문' 기준\n",
    "                                    \"가격\":\"sum\"})\n",
    "rfm.columns = [\"Recency\", \"Frequency\", \"Monetary\"]\n",
    "rfm"
   ]
  },
  {
   "cell_type": "markdown",
   "id": "ed12c291",
   "metadata": {},
   "source": [
    "## 기본 RFM"
   ]
  },
  {
   "cell_type": "markdown",
   "id": "d2199c22",
   "metadata": {},
   "source": [
    "### RFM 모형"
   ]
  },
  {
   "cell_type": "code",
   "execution_count": 77,
   "id": "9a08f000",
   "metadata": {
    "ExecuteTime": {
     "end_time": "2023-06-22T07:44:16.136366Z",
     "start_time": "2023-06-22T07:44:16.120368Z"
    }
   },
   "outputs": [],
   "source": [
    "# RFM에 부여할 숫자 등급 범위 만들기\n",
    "r_labels = list(range(5, 0, -1))\n",
    "m_labels = list(range(1, 6))\n",
    "cut_size = 5"
   ]
  },
  {
   "cell_type": "code",
   "execution_count": 78,
   "id": "b9c70a47",
   "metadata": {
    "ExecuteTime": {
     "end_time": "2023-06-22T07:44:16.674659Z",
     "start_time": "2023-06-22T07:44:16.658658Z"
    }
   },
   "outputs": [
    {
     "data": {
      "text/plain": [
       "[5, 4, 3, 2, 1]"
      ]
     },
     "execution_count": 78,
     "metadata": {},
     "output_type": "execute_result"
    }
   ],
   "source": [
    "r_labels"
   ]
  },
  {
   "cell_type": "code",
   "execution_count": 79,
   "id": "c23dbcb1",
   "metadata": {
    "ExecuteTime": {
     "end_time": "2023-06-22T07:44:17.055261Z",
     "start_time": "2023-06-22T07:44:17.038710Z"
    }
   },
   "outputs": [
    {
     "data": {
      "text/plain": [
       "[1, 2, 3, 4, 5]"
      ]
     },
     "execution_count": 79,
     "metadata": {},
     "output_type": "execute_result"
    }
   ],
   "source": [
    "m_labels"
   ]
  },
  {
   "cell_type": "code",
   "execution_count": 80,
   "id": "e27867b9",
   "metadata": {
    "ExecuteTime": {
     "end_time": "2023-06-22T07:44:18.032032Z",
     "start_time": "2023-06-22T07:44:18.015235Z"
    }
   },
   "outputs": [
    {
     "data": {
      "text/plain": [
       "count    6683.000000\n",
       "mean        1.394583\n",
       "std         2.846215\n",
       "min         1.000000\n",
       "25%         1.000000\n",
       "50%         1.000000\n",
       "75%         1.000000\n",
       "max        89.000000\n",
       "Name: Frequency, dtype: float64"
      ]
     },
     "execution_count": 80,
     "metadata": {},
     "output_type": "execute_result"
    }
   ],
   "source": [
    "# Frequency의 경우 데이터의 분포가 치우쳐 있음\n",
    "rfm['Frequency'].describe()"
   ]
  },
  {
   "cell_type": "code",
   "execution_count": 81,
   "id": "ceaa2bd4",
   "metadata": {
    "ExecuteTime": {
     "end_time": "2023-06-22T07:44:22.801166Z",
     "start_time": "2023-06-22T07:44:22.784643Z"
    },
    "scrolled": true
   },
   "outputs": [
    {
     "data": {
      "text/plain": [
       "Frequency\n",
       "1    0.887027\n",
       "2    0.065839\n",
       "3    0.019752\n",
       "Name: proportion, dtype: float64"
      ]
     },
     "execution_count": 81,
     "metadata": {},
     "output_type": "execute_result"
    }
   ],
   "source": [
    "# Frequency의 88%가 1임.\n",
    "rfm['Frequency'].value_counts(1).nlargest(3)"
   ]
  },
  {
   "cell_type": "code",
   "execution_count": 82,
   "id": "6edb81d7",
   "metadata": {
    "ExecuteTime": {
     "end_time": "2023-06-22T07:44:23.678947Z",
     "start_time": "2023-06-22T07:44:23.226838Z"
    }
   },
   "outputs": [
    {
     "data": {
      "text/plain": [
       "<Axes: xlabel='Frequency'>"
      ]
     },
     "execution_count": 82,
     "metadata": {},
     "output_type": "execute_result"
    },
    {
     "data": {
      "image/png": "[encoded data removed]",
      "text/plain": [
       "<Figure size 500x300 with 1 Axes>"
      ]
     },
     "metadata": {
      "image/png": {
       "height": 300,
       "width": 407
      }
     },
     "output_type": "display_data"
    }
   ],
   "source": [
    "# Frequency boxplot\n",
    "plt.figure(figsize=(5,3))\n",
    "sns.boxplot(data=rfm, x='Frequency')"
   ]
  },
  {
   "cell_type": "markdown",
   "id": "21506042",
   "metadata": {},
   "source": [
    "=> Frequency의 구간화는 별도로 진행"
   ]
  },
  {
   "cell_type": "code",
   "execution_count": 83,
   "id": "b8e27d52",
   "metadata": {
    "ExecuteTime": {
     "end_time": "2023-06-22T07:44:46.943121Z",
     "start_time": "2023-06-22T07:44:46.918448Z"
    }
   },
   "outputs": [],
   "source": [
    "# RFM 구간화 중 R, M 먼저 진행 (1~5)\n",
    "r_cut = pd.qcut(rfm[\"Recency\"], cut_size, r_labels)\n",
    "m_cut = pd.qcut(rfm[\"Monetary\"], cut_size, m_labels)"
   ]
  },
  {
   "cell_type": "code",
   "execution_count": 84,
   "id": "d4b25cb9",
   "metadata": {
    "ExecuteTime": {
     "end_time": "2023-06-22T07:44:56.481759Z",
     "start_time": "2023-06-22T07:44:56.441503Z"
    }
   },
   "outputs": [
    {
     "data": {
      "text/html": [
       "<div>\n",
       "<style scoped>\n",
       "    .dataframe tbody tr th:only-of-type {\n",
       "        vertical-align: middle;\n",
       "    }\n",
       "\n",
       "    .dataframe tbody tr th {\n",
       "        vertical-align: top;\n",
       "    }\n",
       "\n",
       "    .dataframe thead th {\n",
       "        text-align: right;\n",
       "    }\n",
       "</style>\n",
       "<table border=\"1\" class=\"dataframe\">\n",
       "  <thead>\n",
       "    <tr style=\"text-align: right;\">\n",
       "      <th></th>\n",
       "      <th>Recency</th>\n",
       "      <th>Frequency</th>\n",
       "      <th>Monetary</th>\n",
       "      <th>R</th>\n",
       "      <th>M</th>\n",
       "    </tr>\n",
       "    <tr>\n",
       "      <th>고객ID</th>\n",
       "      <th></th>\n",
       "      <th></th>\n",
       "      <th></th>\n",
       "      <th></th>\n",
       "      <th></th>\n",
       "    </tr>\n",
       "  </thead>\n",
       "  <tbody>\n",
       "    <tr>\n",
       "      <th>1.910000e+02</th>\n",
       "      <td>48</td>\n",
       "      <td>1</td>\n",
       "      <td>8000.0</td>\n",
       "      <td>5</td>\n",
       "      <td>3</td>\n",
       "    </tr>\n",
       "    <tr>\n",
       "      <th>3.001200e+06</th>\n",
       "      <td>118</td>\n",
       "      <td>3</td>\n",
       "      <td>8500.0</td>\n",
       "      <td>4</td>\n",
       "      <td>3</td>\n",
       "    </tr>\n",
       "    <tr>\n",
       "      <th>3.004800e+06</th>\n",
       "      <td>418</td>\n",
       "      <td>1</td>\n",
       "      <td>3500.0</td>\n",
       "      <td>1</td>\n",
       "      <td>1</td>\n",
       "    </tr>\n",
       "    <tr>\n",
       "      <th>3.600059e+06</th>\n",
       "      <td>83</td>\n",
       "      <td>3</td>\n",
       "      <td>43600.0</td>\n",
       "      <td>4</td>\n",
       "      <td>5</td>\n",
       "    </tr>\n",
       "    <tr>\n",
       "      <th>3.800026e+06</th>\n",
       "      <td>173</td>\n",
       "      <td>1</td>\n",
       "      <td>10500.0</td>\n",
       "      <td>3</td>\n",
       "      <td>4</td>\n",
       "    </tr>\n",
       "    <tr>\n",
       "      <th>...</th>\n",
       "      <td>...</td>\n",
       "      <td>...</td>\n",
       "      <td>...</td>\n",
       "      <td>...</td>\n",
       "      <td>...</td>\n",
       "    </tr>\n",
       "    <tr>\n",
       "      <th>9.988000e+10</th>\n",
       "      <td>179</td>\n",
       "      <td>1</td>\n",
       "      <td>17000.0</td>\n",
       "      <td>3</td>\n",
       "      <td>5</td>\n",
       "    </tr>\n",
       "    <tr>\n",
       "      <th>9.991300e+10</th>\n",
       "      <td>500</td>\n",
       "      <td>1</td>\n",
       "      <td>9500.0</td>\n",
       "      <td>1</td>\n",
       "      <td>3</td>\n",
       "    </tr>\n",
       "    <tr>\n",
       "      <th>9.991500e+10</th>\n",
       "      <td>488</td>\n",
       "      <td>1</td>\n",
       "      <td>11000.0</td>\n",
       "      <td>1</td>\n",
       "      <td>4</td>\n",
       "    </tr>\n",
       "    <tr>\n",
       "      <th>9.991600e+10</th>\n",
       "      <td>407</td>\n",
       "      <td>1</td>\n",
       "      <td>3500.0</td>\n",
       "      <td>1</td>\n",
       "      <td>1</td>\n",
       "    </tr>\n",
       "    <tr>\n",
       "      <th>9.996699e+10</th>\n",
       "      <td>5</td>\n",
       "      <td>1</td>\n",
       "      <td>7500.0</td>\n",
       "      <td>5</td>\n",
       "      <td>2</td>\n",
       "    </tr>\n",
       "  </tbody>\n",
       "</table>\n",
       "<p>6683 rows × 5 columns</p>\n",
       "</div>"
      ],
      "text/plain": [
       "              Recency  Frequency  Monetary  R  M\n",
       "고객ID                                            \n",
       "1.910000e+02       48          1    8000.0  5  3\n",
       "3.001200e+06      118          3    8500.0  4  3\n",
       "3.004800e+06      418          1    3500.0  1  1\n",
       "3.600059e+06       83          3   43600.0  4  5\n",
       "3.800026e+06      173          1   10500.0  3  4\n",
       "...               ...        ...       ... .. ..\n",
       "9.988000e+10      179          1   17000.0  3  5\n",
       "9.991300e+10      500          1    9500.0  1  3\n",
       "9.991500e+10      488          1   11000.0  1  4\n",
       "9.991600e+10      407          1    3500.0  1  1\n",
       "9.996699e+10        5          1    7500.0  5  2\n",
       "\n",
       "[6683 rows x 5 columns]"
      ]
     },
     "execution_count": 84,
     "metadata": {},
     "output_type": "execute_result"
    }
   ],
   "source": [
    "# R, M 컬럼 한꺼번에 만들기\n",
    "rfm = rfm.assign(R=r_cut, M=m_cut)\n",
    "rfm"
   ]
  },
  {
   "cell_type": "code",
   "execution_count": 85,
   "id": "788da586",
   "metadata": {
    "ExecuteTime": {
     "end_time": "2023-06-22T07:46:07.274184Z",
     "start_time": "2023-06-22T07:46:07.225600Z"
    }
   },
   "outputs": [
    {
     "data": {
      "text/html": [
       "<div>\n",
       "<style scoped>\n",
       "    .dataframe tbody tr th:only-of-type {\n",
       "        vertical-align: middle;\n",
       "    }\n",
       "\n",
       "    .dataframe tbody tr th {\n",
       "        vertical-align: top;\n",
       "    }\n",
       "\n",
       "    .dataframe thead th {\n",
       "        text-align: right;\n",
       "    }\n",
       "</style>\n",
       "<table border=\"1\" class=\"dataframe\">\n",
       "  <thead>\n",
       "    <tr style=\"text-align: right;\">\n",
       "      <th></th>\n",
       "      <th>Recency</th>\n",
       "      <th>Frequency</th>\n",
       "      <th>Monetary</th>\n",
       "      <th>R</th>\n",
       "      <th>M</th>\n",
       "      <th>F</th>\n",
       "    </tr>\n",
       "    <tr>\n",
       "      <th>고객ID</th>\n",
       "      <th></th>\n",
       "      <th></th>\n",
       "      <th></th>\n",
       "      <th></th>\n",
       "      <th></th>\n",
       "      <th></th>\n",
       "    </tr>\n",
       "  </thead>\n",
       "  <tbody>\n",
       "    <tr>\n",
       "      <th>1.910000e+02</th>\n",
       "      <td>48</td>\n",
       "      <td>1</td>\n",
       "      <td>8000.0</td>\n",
       "      <td>5</td>\n",
       "      <td>3</td>\n",
       "      <td>1</td>\n",
       "    </tr>\n",
       "    <tr>\n",
       "      <th>3.001200e+06</th>\n",
       "      <td>118</td>\n",
       "      <td>3</td>\n",
       "      <td>8500.0</td>\n",
       "      <td>4</td>\n",
       "      <td>3</td>\n",
       "      <td>3</td>\n",
       "    </tr>\n",
       "    <tr>\n",
       "      <th>3.004800e+06</th>\n",
       "      <td>418</td>\n",
       "      <td>1</td>\n",
       "      <td>3500.0</td>\n",
       "      <td>1</td>\n",
       "      <td>1</td>\n",
       "      <td>1</td>\n",
       "    </tr>\n",
       "    <tr>\n",
       "      <th>3.600059e+06</th>\n",
       "      <td>83</td>\n",
       "      <td>3</td>\n",
       "      <td>43600.0</td>\n",
       "      <td>4</td>\n",
       "      <td>5</td>\n",
       "      <td>3</td>\n",
       "    </tr>\n",
       "    <tr>\n",
       "      <th>3.800026e+06</th>\n",
       "      <td>173</td>\n",
       "      <td>1</td>\n",
       "      <td>10500.0</td>\n",
       "      <td>3</td>\n",
       "      <td>4</td>\n",
       "      <td>1</td>\n",
       "    </tr>\n",
       "    <tr>\n",
       "      <th>...</th>\n",
       "      <td>...</td>\n",
       "      <td>...</td>\n",
       "      <td>...</td>\n",
       "      <td>...</td>\n",
       "      <td>...</td>\n",
       "      <td>...</td>\n",
       "    </tr>\n",
       "    <tr>\n",
       "      <th>9.988000e+10</th>\n",
       "      <td>179</td>\n",
       "      <td>1</td>\n",
       "      <td>17000.0</td>\n",
       "      <td>3</td>\n",
       "      <td>5</td>\n",
       "      <td>1</td>\n",
       "    </tr>\n",
       "    <tr>\n",
       "      <th>9.991300e+10</th>\n",
       "      <td>500</td>\n",
       "      <td>1</td>\n",
       "      <td>9500.0</td>\n",
       "      <td>1</td>\n",
       "      <td>3</td>\n",
       "      <td>1</td>\n",
       "    </tr>\n",
       "    <tr>\n",
       "      <th>9.991500e+10</th>\n",
       "      <td>488</td>\n",
       "      <td>1</td>\n",
       "      <td>11000.0</td>\n",
       "      <td>1</td>\n",
       "      <td>4</td>\n",
       "      <td>1</td>\n",
       "    </tr>\n",
       "    <tr>\n",
       "      <th>9.991600e+10</th>\n",
       "      <td>407</td>\n",
       "      <td>1</td>\n",
       "      <td>3500.0</td>\n",
       "      <td>1</td>\n",
       "      <td>1</td>\n",
       "      <td>1</td>\n",
       "    </tr>\n",
       "    <tr>\n",
       "      <th>9.996699e+10</th>\n",
       "      <td>5</td>\n",
       "      <td>1</td>\n",
       "      <td>7500.0</td>\n",
       "      <td>5</td>\n",
       "      <td>2</td>\n",
       "      <td>1</td>\n",
       "    </tr>\n",
       "  </tbody>\n",
       "</table>\n",
       "<p>6683 rows × 6 columns</p>\n",
       "</div>"
      ],
      "text/plain": [
       "              Recency  Frequency  Monetary  R  M  F\n",
       "고객ID                                               \n",
       "1.910000e+02       48          1    8000.0  5  3  1\n",
       "3.001200e+06      118          3    8500.0  4  3  3\n",
       "3.004800e+06      418          1    3500.0  1  1  1\n",
       "3.600059e+06       83          3   43600.0  4  5  3\n",
       "3.800026e+06      173          1   10500.0  3  4  1\n",
       "...               ...        ...       ... .. .. ..\n",
       "9.988000e+10      179          1   17000.0  3  5  1\n",
       "9.991300e+10      500          1    9500.0  1  3  1\n",
       "9.991500e+10      488          1   11000.0  1  4  1\n",
       "9.991600e+10      407          1    3500.0  1  1  1\n",
       "9.996699e+10        5          1    7500.0  5  2  1\n",
       "\n",
       "[6683 rows x 6 columns]"
      ]
     },
     "execution_count": 85,
     "metadata": {},
     "output_type": "execute_result"
    }
   ],
   "source": [
    "# F 컬럼 만들기\n",
    "# Frequency가 1인 경우 1, 2인 경우 2, 3인 경우 3, 나머지인 경우 4~5로 분류\n",
    "# Frequency가 1, 2, 3의 구성비율이 유의미하게 크다고 생각하여 별도로 그룹을 부여함.\n",
    "\n",
    "rfm['F'] = 0 # 기본값을 0으로 지정\n",
    "rfm.loc[rfm['Frequency'] == 1, 'F'] = 1\n",
    "rfm.loc[rfm['Frequency'] == 2, 'F'] = 2\n",
    "rfm.loc[rfm['Frequency'] == 3, 'F'] = 3\n",
    "rfm"
   ]
  },
  {
   "cell_type": "code",
   "execution_count": 87,
   "id": "ba481c70",
   "metadata": {
    "ExecuteTime": {
     "end_time": "2023-06-22T07:46:46.969565Z",
     "start_time": "2023-06-22T07:46:46.433468Z"
    }
   },
   "outputs": [
    {
     "data": {
      "text/plain": [
       "<Axes: xlabel='Frequency'>"
      ]
     },
     "execution_count": 87,
     "metadata": {},
     "output_type": "execute_result"
    },
    {
     "data": {
      "image/png": "[encoded data removed]",
      "text/plain": [
       "<Figure size 1000x400 with 1 Axes>"
      ]
     },
     "metadata": {
      "image/png": {
       "height": 377,
       "width": 797
      }
     },
     "output_type": "display_data"
    }
   ],
   "source": [
    "# 'F'가 1,2,3이 아닌 경우 Frequency의 분포\n",
    "plt.figure(figsize=(10,4))\n",
    "sns.boxplot(data=rfm.loc[rfm['F']==0], x='Frequency')"
   ]
  },
  {
   "cell_type": "code",
   "execution_count": 88,
   "id": "72e9d9c7",
   "metadata": {
    "ExecuteTime": {
     "end_time": "2023-06-22T07:46:51.919864Z",
     "start_time": "2023-06-22T07:46:51.191398Z"
    }
   },
   "outputs": [
    {
     "data": {
      "text/plain": [
       "<Axes: xlabel='Frequency', ylabel='Count'>"
      ]
     },
     "execution_count": 88,
     "metadata": {},
     "output_type": "execute_result"
    },
    {
     "data": {
      "image/png": "[encoded data removed]",
      "text/plain": [
       "<Figure size 1000x400 with 1 Axes>"
      ]
     },
     "metadata": {
      "image/png": {
       "height": 378,
       "width": 857
      }
     },
     "output_type": "display_data"
    }
   ],
   "source": [
    "plt.figure(figsize=(10,4))\n",
    "sns.histplot(data=rfm.loc[rfm['F']==0], x='Frequency', kde=True)"
   ]
  },
  {
   "cell_type": "code",
   "execution_count": 89,
   "id": "e718482c",
   "metadata": {
    "ExecuteTime": {
     "end_time": "2023-06-22T07:47:32.106079Z",
     "start_time": "2023-06-22T07:47:32.081852Z"
    }
   },
   "outputs": [
    {
     "data": {
      "text/plain": [
       "11.562841530054644"
      ]
     },
     "metadata": {},
     "output_type": "display_data"
    },
    {
     "data": {
      "text/plain": [
       "6.0"
      ]
     },
     "metadata": {},
     "output_type": "display_data"
    }
   ],
   "source": [
    "display(rfm.loc[rfm['F']==0, 'Frequency'].mean())\n",
    "display(rfm.loc[rfm['F']==0, 'Frequency'].median())"
   ]
  },
  {
   "cell_type": "code",
   "execution_count": 90,
   "id": "ac86cea1",
   "metadata": {
    "ExecuteTime": {
     "end_time": "2023-06-22T07:47:38.780861Z",
     "start_time": "2023-06-22T07:47:38.592466Z"
    }
   },
   "outputs": [],
   "source": [
    "# 'F'컬럼이 1,2,3이 아닌 경우, 나머지 값들의 중앙값 이하는 4, 이상은 5를 부여. 즉, 4와 5를 50:50으로 나눔\n",
    "rfm.loc[rfm['F'] == 0, 'F'] = rfm.loc[rfm['F'] == 0, 'Frequency'].apply(lambda x: 4 if x < rfm.loc[rfm['F'] == 0, 'Frequency'].median() else 5)"
   ]
  },
  {
   "cell_type": "code",
   "execution_count": 96,
   "id": "900e45e3",
   "metadata": {
    "ExecuteTime": {
     "end_time": "2023-06-22T07:48:41.698736Z",
     "start_time": "2023-06-22T07:48:41.682762Z"
    }
   },
   "outputs": [
    {
     "data": {
      "text/plain": [
       "F\n",
       "1    5928\n",
       "2     440\n",
       "3     132\n",
       "5     104\n",
       "4      79\n",
       "Name: count, dtype: int64"
      ]
     },
     "execution_count": 96,
     "metadata": {},
     "output_type": "execute_result"
    }
   ],
   "source": [
    "rfm['F'].value_counts()"
   ]
  },
  {
   "cell_type": "code",
   "execution_count": 97,
   "id": "f0b3617b",
   "metadata": {
    "ExecuteTime": {
     "end_time": "2023-06-22T07:48:44.333306Z",
     "start_time": "2023-06-22T07:48:44.302475Z"
    }
   },
   "outputs": [
    {
     "name": "stdout",
     "output_type": "stream",
     "text": [
      "<class 'pandas.core.frame.DataFrame'>\n",
      "Index: 6683 entries, 191.0 to 99966991169.0\n",
      "Data columns (total 6 columns):\n",
      " #   Column     Non-Null Count  Dtype   \n",
      "---  ------     --------------  -----   \n",
      " 0   Recency    6683 non-null   int64   \n",
      " 1   Frequency  6683 non-null   int64   \n",
      " 2   Monetary   6683 non-null   float64 \n",
      " 3   R          6683 non-null   category\n",
      " 4   M          6683 non-null   category\n",
      " 5   F          6683 non-null   category\n",
      "dtypes: category(3), float64(1), int64(2)\n",
      "memory usage: 229.0 KB\n"
     ]
    }
   ],
   "source": [
    "# 'F'컬럼 형변환 : int -> category\n",
    "rfm['F'] = rfm['F'].astype('category')\n",
    "rfm.info()"
   ]
  },
  {
   "cell_type": "code",
   "execution_count": 98,
   "id": "f7cf1553",
   "metadata": {
    "ExecuteTime": {
     "end_time": "2023-06-22T07:48:44.721149Z",
     "start_time": "2023-06-22T07:48:44.704666Z"
    }
   },
   "outputs": [
    {
     "data": {
      "text/plain": [
       "F\n",
       "1    0.887027\n",
       "2    0.065839\n",
       "3    0.019752\n",
       "5    0.015562\n",
       "4    0.011821\n",
       "Name: proportion, dtype: float64"
      ]
     },
     "execution_count": 98,
     "metadata": {},
     "output_type": "execute_result"
    }
   ],
   "source": [
    "rfm['F'].value_counts(1)"
   ]
  },
  {
   "cell_type": "code",
   "execution_count": 103,
   "id": "22c05eb7",
   "metadata": {
    "ExecuteTime": {
     "end_time": "2023-06-22T08:01:09.905236Z",
     "start_time": "2023-06-22T08:01:09.180695Z"
    }
   },
   "outputs": [
    {
     "data": {
      "image/png": "[encoded data removed]",
      "text/plain": [
       "<Figure size 640x480 with 2 Axes>"
      ]
     },
     "metadata": {
      "image/png": {
       "height": 423,
       "width": 538
      }
     },
     "output_type": "display_data"
    }
   ],
   "source": [
    "# RFM 상관관계 확인\n",
    "rfm_corr = rfm.corr(numeric_only=True)\n",
    "mask = np.triu(np.ones_like(rfm_corr))\n",
    "sns.heatmap(rfm_corr, cmap=\"coolwarm\", annot=True, vmin=-1, vmax=1, mask=mask);"
   ]
  },
  {
   "cell_type": "markdown",
   "id": "25802b0d",
   "metadata": {},
   "source": [
    "### RFM code"
   ]
  },
  {
   "cell_type": "code",
   "execution_count": 104,
   "id": "761dcd24",
   "metadata": {
    "ExecuteTime": {
     "end_time": "2023-06-22T08:02:18.577845Z",
     "start_time": "2023-06-22T08:02:18.545483Z"
    }
   },
   "outputs": [
    {
     "data": {
      "text/html": [
       "<div>\n",
       "<style scoped>\n",
       "    .dataframe tbody tr th:only-of-type {\n",
       "        vertical-align: middle;\n",
       "    }\n",
       "\n",
       "    .dataframe tbody tr th {\n",
       "        vertical-align: top;\n",
       "    }\n",
       "\n",
       "    .dataframe thead th {\n",
       "        text-align: right;\n",
       "    }\n",
       "</style>\n",
       "<table border=\"1\" class=\"dataframe\">\n",
       "  <thead>\n",
       "    <tr style=\"text-align: right;\">\n",
       "      <th></th>\n",
       "      <th>Recency</th>\n",
       "      <th>Frequency</th>\n",
       "      <th>Monetary</th>\n",
       "      <th>R</th>\n",
       "      <th>M</th>\n",
       "      <th>F</th>\n",
       "      <th>RFM_code</th>\n",
       "    </tr>\n",
       "    <tr>\n",
       "      <th>고객ID</th>\n",
       "      <th></th>\n",
       "      <th></th>\n",
       "      <th></th>\n",
       "      <th></th>\n",
       "      <th></th>\n",
       "      <th></th>\n",
       "      <th></th>\n",
       "    </tr>\n",
       "  </thead>\n",
       "  <tbody>\n",
       "    <tr>\n",
       "      <th>191.0</th>\n",
       "      <td>48</td>\n",
       "      <td>1</td>\n",
       "      <td>8000.0</td>\n",
       "      <td>5</td>\n",
       "      <td>3</td>\n",
       "      <td>1</td>\n",
       "      <td>513</td>\n",
       "    </tr>\n",
       "  </tbody>\n",
       "</table>\n",
       "</div>"
      ],
      "text/plain": [
       "       Recency  Frequency  Monetary  R  M  F RFM_code\n",
       "고객ID                                                 \n",
       "191.0       48          1    8000.0  5  3  1      513"
      ]
     },
     "execution_count": 104,
     "metadata": {},
     "output_type": "execute_result"
    }
   ],
   "source": [
    "# R, F, M 값을 문자 그대로 붙여서 세그먼트를 구분\n",
    "rfm[\"RFM_code\"] = rfm[\"R\"].astype(str) + rfm[\"F\"].astype(str) + rfm[\"M\"].astype(str)\n",
    "rfm.head(1)"
   ]
  },
  {
   "cell_type": "markdown",
   "id": "e17204f7",
   "metadata": {},
   "source": [
    "### RFM Score"
   ]
  },
  {
   "cell_type": "code",
   "execution_count": 106,
   "id": "34a19999",
   "metadata": {
    "ExecuteTime": {
     "end_time": "2023-06-22T08:03:22.408827Z",
     "start_time": "2023-06-22T08:03:22.377824Z"
    }
   },
   "outputs": [
    {
     "data": {
      "text/html": [
       "<div>\n",
       "<style scoped>\n",
       "    .dataframe tbody tr th:only-of-type {\n",
       "        vertical-align: middle;\n",
       "    }\n",
       "\n",
       "    .dataframe tbody tr th {\n",
       "        vertical-align: top;\n",
       "    }\n",
       "\n",
       "    .dataframe thead th {\n",
       "        text-align: right;\n",
       "    }\n",
       "</style>\n",
       "<table border=\"1\" class=\"dataframe\">\n",
       "  <thead>\n",
       "    <tr style=\"text-align: right;\">\n",
       "      <th></th>\n",
       "      <th>Recency</th>\n",
       "      <th>Frequency</th>\n",
       "      <th>Monetary</th>\n",
       "      <th>R</th>\n",
       "      <th>M</th>\n",
       "      <th>F</th>\n",
       "      <th>RFM_code</th>\n",
       "      <th>RFM_score</th>\n",
       "    </tr>\n",
       "    <tr>\n",
       "      <th>고객ID</th>\n",
       "      <th></th>\n",
       "      <th></th>\n",
       "      <th></th>\n",
       "      <th></th>\n",
       "      <th></th>\n",
       "      <th></th>\n",
       "      <th></th>\n",
       "      <th></th>\n",
       "    </tr>\n",
       "  </thead>\n",
       "  <tbody>\n",
       "    <tr>\n",
       "      <th>191.0</th>\n",
       "      <td>48</td>\n",
       "      <td>1</td>\n",
       "      <td>8000.0</td>\n",
       "      <td>5</td>\n",
       "      <td>3</td>\n",
       "      <td>1</td>\n",
       "      <td>513</td>\n",
       "      <td>9</td>\n",
       "    </tr>\n",
       "  </tbody>\n",
       "</table>\n",
       "</div>"
      ],
      "text/plain": [
       "       Recency  Frequency  Monetary  R  M  F RFM_code  RFM_score\n",
       "고객ID                                                            \n",
       "191.0       48          1    8000.0  5  3  1      513          9"
      ]
     },
     "execution_count": 106,
     "metadata": {},
     "output_type": "execute_result"
    }
   ],
   "source": [
    "# R, F, M 값을 더해 세그먼트 점수 구하기\n",
    "rfm[\"RFM_score\"] = rfm[[\"R\", \"F\", \"M\"]].sum(axis=1)\n",
    "rfm.head(1)"
   ]
  },
  {
   "cell_type": "markdown",
   "id": "23f48ef2",
   "metadata": {},
   "source": [
    "### Class 분류"
   ]
  },
  {
   "cell_type": "code",
   "execution_count": 120,
   "id": "31c93b7a",
   "metadata": {
    "ExecuteTime": {
     "end_time": "2023-06-22T11:43:43.174154Z",
     "start_time": "2023-06-22T11:43:43.134132Z"
    }
   },
   "outputs": [
    {
     "data": {
      "text/html": [
       "<div>\n",
       "<style scoped>\n",
       "    .dataframe tbody tr th:only-of-type {\n",
       "        vertical-align: middle;\n",
       "    }\n",
       "\n",
       "    .dataframe tbody tr th {\n",
       "        vertical-align: top;\n",
       "    }\n",
       "\n",
       "    .dataframe thead th {\n",
       "        text-align: right;\n",
       "    }\n",
       "</style>\n",
       "<table border=\"1\" class=\"dataframe\">\n",
       "  <thead>\n",
       "    <tr style=\"text-align: right;\">\n",
       "      <th></th>\n",
       "      <th>Recency</th>\n",
       "      <th>Frequency</th>\n",
       "      <th>Monetary</th>\n",
       "      <th>R</th>\n",
       "      <th>M</th>\n",
       "      <th>F</th>\n",
       "      <th>RFM_code</th>\n",
       "      <th>RFM_score</th>\n",
       "      <th>RFM_class</th>\n",
       "    </tr>\n",
       "    <tr>\n",
       "      <th>고객ID</th>\n",
       "      <th></th>\n",
       "      <th></th>\n",
       "      <th></th>\n",
       "      <th></th>\n",
       "      <th></th>\n",
       "      <th></th>\n",
       "      <th></th>\n",
       "      <th></th>\n",
       "      <th></th>\n",
       "    </tr>\n",
       "  </thead>\n",
       "  <tbody>\n",
       "    <tr>\n",
       "      <th>191.0</th>\n",
       "      <td>48</td>\n",
       "      <td>1</td>\n",
       "      <td>8000.0</td>\n",
       "      <td>5</td>\n",
       "      <td>3</td>\n",
       "      <td>1</td>\n",
       "      <td>513</td>\n",
       "      <td>9</td>\n",
       "      <td>gold</td>\n",
       "    </tr>\n",
       "    <tr>\n",
       "      <th>3001200.0</th>\n",
       "      <td>118</td>\n",
       "      <td>3</td>\n",
       "      <td>8500.0</td>\n",
       "      <td>4</td>\n",
       "      <td>3</td>\n",
       "      <td>3</td>\n",
       "      <td>433</td>\n",
       "      <td>10</td>\n",
       "      <td>gold</td>\n",
       "    </tr>\n",
       "    <tr>\n",
       "      <th>3004800.0</th>\n",
       "      <td>418</td>\n",
       "      <td>1</td>\n",
       "      <td>3500.0</td>\n",
       "      <td>1</td>\n",
       "      <td>1</td>\n",
       "      <td>1</td>\n",
       "      <td>111</td>\n",
       "      <td>3</td>\n",
       "      <td>bronze</td>\n",
       "    </tr>\n",
       "    <tr>\n",
       "      <th>3600059.0</th>\n",
       "      <td>83</td>\n",
       "      <td>3</td>\n",
       "      <td>43600.0</td>\n",
       "      <td>4</td>\n",
       "      <td>5</td>\n",
       "      <td>3</td>\n",
       "      <td>435</td>\n",
       "      <td>12</td>\n",
       "      <td>gold</td>\n",
       "    </tr>\n",
       "    <tr>\n",
       "      <th>3800026.0</th>\n",
       "      <td>173</td>\n",
       "      <td>1</td>\n",
       "      <td>10500.0</td>\n",
       "      <td>3</td>\n",
       "      <td>4</td>\n",
       "      <td>1</td>\n",
       "      <td>314</td>\n",
       "      <td>8</td>\n",
       "      <td>silver</td>\n",
       "    </tr>\n",
       "  </tbody>\n",
       "</table>\n",
       "</div>"
      ],
      "text/plain": [
       "           Recency  Frequency  Monetary  R  M  F RFM_code  RFM_score RFM_class\n",
       "고객ID                                                                          \n",
       "191.0           48          1    8000.0  5  3  1      513          9      gold\n",
       "3001200.0      118          3    8500.0  4  3  3      433         10      gold\n",
       "3004800.0      418          1    3500.0  1  1  1      111          3    bronze\n",
       "3600059.0       83          3   43600.0  4  5  3      435         12      gold\n",
       "3800026.0      173          1   10500.0  3  4  1      314          8    silver"
      ]
     },
     "execution_count": 120,
     "metadata": {},
     "output_type": "execute_result"
    }
   ],
   "source": [
    "# qcut 을 통해 3단계로 고객군 나누기 - bronze, silver, gold\n",
    "labels = [\"bronze\", \"silver\", \"gold\"]\n",
    "rfm['RFM_class'] = pd.qcut(rfm['RFM_score'], 3, labels)\n",
    "rfm.head()"
   ]
  },
  {
   "cell_type": "code",
   "execution_count": 121,
   "id": "b038b691",
   "metadata": {
    "ExecuteTime": {
     "end_time": "2023-06-22T11:43:51.348589Z",
     "start_time": "2023-06-22T11:43:51.306454Z"
    }
   },
   "outputs": [
    {
     "data": {
      "text/html": [
       "<div>\n",
       "<style scoped>\n",
       "    .dataframe tbody tr th:only-of-type {\n",
       "        vertical-align: middle;\n",
       "    }\n",
       "\n",
       "    .dataframe tbody tr th {\n",
       "        vertical-align: top;\n",
       "    }\n",
       "\n",
       "    .dataframe thead th {\n",
       "        text-align: right;\n",
       "    }\n",
       "</style>\n",
       "<table border=\"1\" class=\"dataframe\">\n",
       "  <thead>\n",
       "    <tr style=\"text-align: right;\">\n",
       "      <th></th>\n",
       "      <th>count</th>\n",
       "      <th>mean</th>\n",
       "      <th>std</th>\n",
       "      <th>min</th>\n",
       "      <th>25%</th>\n",
       "      <th>50%</th>\n",
       "      <th>75%</th>\n",
       "      <th>max</th>\n",
       "    </tr>\n",
       "    <tr>\n",
       "      <th>RFM_class</th>\n",
       "      <th></th>\n",
       "      <th></th>\n",
       "      <th></th>\n",
       "      <th></th>\n",
       "      <th></th>\n",
       "      <th></th>\n",
       "      <th></th>\n",
       "      <th></th>\n",
       "    </tr>\n",
       "  </thead>\n",
       "  <tbody>\n",
       "    <tr>\n",
       "      <th>bronze</th>\n",
       "      <td>2787.0</td>\n",
       "      <td>4.939003</td>\n",
       "      <td>1.014190</td>\n",
       "      <td>3.0</td>\n",
       "      <td>4.0</td>\n",
       "      <td>5.0</td>\n",
       "      <td>6.0</td>\n",
       "      <td>6.0</td>\n",
       "    </tr>\n",
       "    <tr>\n",
       "      <th>silver</th>\n",
       "      <td>2145.0</td>\n",
       "      <td>7.444289</td>\n",
       "      <td>0.497002</td>\n",
       "      <td>7.0</td>\n",
       "      <td>7.0</td>\n",
       "      <td>7.0</td>\n",
       "      <td>8.0</td>\n",
       "      <td>8.0</td>\n",
       "    </tr>\n",
       "    <tr>\n",
       "      <th>gold</th>\n",
       "      <td>1751.0</td>\n",
       "      <td>10.225014</td>\n",
       "      <td>1.463722</td>\n",
       "      <td>9.0</td>\n",
       "      <td>9.0</td>\n",
       "      <td>10.0</td>\n",
       "      <td>11.0</td>\n",
       "      <td>15.0</td>\n",
       "    </tr>\n",
       "  </tbody>\n",
       "</table>\n",
       "</div>"
      ],
      "text/plain": [
       "            count       mean       std  min  25%   50%   75%   max\n",
       "RFM_class                                                         \n",
       "bronze     2787.0   4.939003  1.014190  3.0  4.0   5.0   6.0   6.0\n",
       "silver     2145.0   7.444289  0.497002  7.0  7.0   7.0   8.0   8.0\n",
       "gold       1751.0  10.225014  1.463722  9.0  9.0  10.0  11.0  15.0"
      ]
     },
     "execution_count": 121,
     "metadata": {},
     "output_type": "execute_result"
    }
   ],
   "source": [
    "rfm.groupby(\"RFM_class\")[\"RFM_score\"].describe()"
   ]
  },
  {
   "cell_type": "markdown",
   "id": "a5af03d9",
   "metadata": {},
   "source": [
    "## R, F, M의 가중치를 고려한 RFM\n",
    "참고 : https://zephyrus1111.tistory.com/16"
   ]
  },
  {
   "cell_type": "code",
   "execution_count": 107,
   "id": "f58b3143",
   "metadata": {
    "ExecuteTime": {
     "end_time": "2023-06-22T08:19:16.204282Z",
     "start_time": "2023-06-22T08:19:16.164076Z"
    }
   },
   "outputs": [
    {
     "data": {
      "text/html": [
       "<div>\n",
       "<style scoped>\n",
       "    .dataframe tbody tr th:only-of-type {\n",
       "        vertical-align: middle;\n",
       "    }\n",
       "\n",
       "    .dataframe tbody tr th {\n",
       "        vertical-align: top;\n",
       "    }\n",
       "\n",
       "    .dataframe thead th {\n",
       "        text-align: right;\n",
       "    }\n",
       "</style>\n",
       "<table border=\"1\" class=\"dataframe\">\n",
       "  <thead>\n",
       "    <tr style=\"text-align: right;\">\n",
       "      <th></th>\n",
       "      <th>고객ID</th>\n",
       "      <th>Monetary</th>\n",
       "      <th>R</th>\n",
       "      <th>F</th>\n",
       "      <th>M</th>\n",
       "    </tr>\n",
       "  </thead>\n",
       "  <tbody>\n",
       "    <tr>\n",
       "      <th>0</th>\n",
       "      <td>1.910000e+02</td>\n",
       "      <td>8000.0</td>\n",
       "      <td>5</td>\n",
       "      <td>1</td>\n",
       "      <td>3</td>\n",
       "    </tr>\n",
       "    <tr>\n",
       "      <th>1</th>\n",
       "      <td>3.001200e+06</td>\n",
       "      <td>8500.0</td>\n",
       "      <td>4</td>\n",
       "      <td>3</td>\n",
       "      <td>3</td>\n",
       "    </tr>\n",
       "    <tr>\n",
       "      <th>2</th>\n",
       "      <td>3.004800e+06</td>\n",
       "      <td>3500.0</td>\n",
       "      <td>1</td>\n",
       "      <td>1</td>\n",
       "      <td>1</td>\n",
       "    </tr>\n",
       "    <tr>\n",
       "      <th>3</th>\n",
       "      <td>3.600059e+06</td>\n",
       "      <td>43600.0</td>\n",
       "      <td>4</td>\n",
       "      <td>3</td>\n",
       "      <td>5</td>\n",
       "    </tr>\n",
       "    <tr>\n",
       "      <th>4</th>\n",
       "      <td>3.800026e+06</td>\n",
       "      <td>10500.0</td>\n",
       "      <td>3</td>\n",
       "      <td>1</td>\n",
       "      <td>4</td>\n",
       "    </tr>\n",
       "    <tr>\n",
       "      <th>...</th>\n",
       "      <td>...</td>\n",
       "      <td>...</td>\n",
       "      <td>...</td>\n",
       "      <td>...</td>\n",
       "      <td>...</td>\n",
       "    </tr>\n",
       "    <tr>\n",
       "      <th>6678</th>\n",
       "      <td>9.988000e+10</td>\n",
       "      <td>17000.0</td>\n",
       "      <td>3</td>\n",
       "      <td>1</td>\n",
       "      <td>5</td>\n",
       "    </tr>\n",
       "    <tr>\n",
       "      <th>6679</th>\n",
       "      <td>9.991300e+10</td>\n",
       "      <td>9500.0</td>\n",
       "      <td>1</td>\n",
       "      <td>1</td>\n",
       "      <td>3</td>\n",
       "    </tr>\n",
       "    <tr>\n",
       "      <th>6680</th>\n",
       "      <td>9.991500e+10</td>\n",
       "      <td>11000.0</td>\n",
       "      <td>1</td>\n",
       "      <td>1</td>\n",
       "      <td>4</td>\n",
       "    </tr>\n",
       "    <tr>\n",
       "      <th>6681</th>\n",
       "      <td>9.991600e+10</td>\n",
       "      <td>3500.0</td>\n",
       "      <td>1</td>\n",
       "      <td>1</td>\n",
       "      <td>1</td>\n",
       "    </tr>\n",
       "    <tr>\n",
       "      <th>6682</th>\n",
       "      <td>9.996699e+10</td>\n",
       "      <td>7500.0</td>\n",
       "      <td>5</td>\n",
       "      <td>1</td>\n",
       "      <td>2</td>\n",
       "    </tr>\n",
       "  </tbody>\n",
       "</table>\n",
       "<p>6683 rows × 5 columns</p>\n",
       "</div>"
      ],
      "text/plain": [
       "              고객ID  Monetary  R  F  M\n",
       "0     1.910000e+02    8000.0  5  1  3\n",
       "1     3.001200e+06    8500.0  4  3  3\n",
       "2     3.004800e+06    3500.0  1  1  1\n",
       "3     3.600059e+06   43600.0  4  3  5\n",
       "4     3.800026e+06   10500.0  3  1  4\n",
       "...            ...       ... .. .. ..\n",
       "6678  9.988000e+10   17000.0  3  1  5\n",
       "6679  9.991300e+10    9500.0  1  1  3\n",
       "6680  9.991500e+10   11000.0  1  1  4\n",
       "6681  9.991600e+10    3500.0  1  1  1\n",
       "6682  9.996699e+10    7500.0  5  1  2\n",
       "\n",
       "[6683 rows x 5 columns]"
      ]
     },
     "execution_count": 107,
     "metadata": {},
     "output_type": "execute_result"
    }
   ],
   "source": [
    "## 필요 변수 추출\n",
    "rfm_score = rfm[['Monetary', 'R','F','M']].reset_index()\n",
    "rfm_score"
   ]
  },
  {
   "cell_type": "code",
   "execution_count": 108,
   "id": "6d3cdcaa",
   "metadata": {
    "ExecuteTime": {
     "end_time": "2023-06-22T08:19:32.042676Z",
     "start_time": "2023-06-22T08:19:32.002704Z"
    }
   },
   "outputs": [
    {
     "data": {
      "text/html": [
       "<div>\n",
       "<style scoped>\n",
       "    .dataframe tbody tr th:only-of-type {\n",
       "        vertical-align: middle;\n",
       "    }\n",
       "\n",
       "    .dataframe tbody tr th {\n",
       "        vertical-align: top;\n",
       "    }\n",
       "\n",
       "    .dataframe thead th {\n",
       "        text-align: right;\n",
       "    }\n",
       "</style>\n",
       "<table border=\"1\" class=\"dataframe\">\n",
       "  <thead>\n",
       "    <tr style=\"text-align: right;\">\n",
       "      <th></th>\n",
       "      <th>CustomerID</th>\n",
       "      <th>Monetary</th>\n",
       "      <th>Recency_R</th>\n",
       "      <th>Frequency_F</th>\n",
       "      <th>Monetary_M</th>\n",
       "    </tr>\n",
       "  </thead>\n",
       "  <tbody>\n",
       "    <tr>\n",
       "      <th>0</th>\n",
       "      <td>1.910000e+02</td>\n",
       "      <td>8000.0</td>\n",
       "      <td>5</td>\n",
       "      <td>1</td>\n",
       "      <td>3</td>\n",
       "    </tr>\n",
       "    <tr>\n",
       "      <th>1</th>\n",
       "      <td>3.001200e+06</td>\n",
       "      <td>8500.0</td>\n",
       "      <td>4</td>\n",
       "      <td>3</td>\n",
       "      <td>3</td>\n",
       "    </tr>\n",
       "    <tr>\n",
       "      <th>2</th>\n",
       "      <td>3.004800e+06</td>\n",
       "      <td>3500.0</td>\n",
       "      <td>1</td>\n",
       "      <td>1</td>\n",
       "      <td>1</td>\n",
       "    </tr>\n",
       "    <tr>\n",
       "      <th>3</th>\n",
       "      <td>3.600059e+06</td>\n",
       "      <td>43600.0</td>\n",
       "      <td>4</td>\n",
       "      <td>3</td>\n",
       "      <td>5</td>\n",
       "    </tr>\n",
       "    <tr>\n",
       "      <th>4</th>\n",
       "      <td>3.800026e+06</td>\n",
       "      <td>10500.0</td>\n",
       "      <td>3</td>\n",
       "      <td>1</td>\n",
       "      <td>4</td>\n",
       "    </tr>\n",
       "    <tr>\n",
       "      <th>...</th>\n",
       "      <td>...</td>\n",
       "      <td>...</td>\n",
       "      <td>...</td>\n",
       "      <td>...</td>\n",
       "      <td>...</td>\n",
       "    </tr>\n",
       "    <tr>\n",
       "      <th>6678</th>\n",
       "      <td>9.988000e+10</td>\n",
       "      <td>17000.0</td>\n",
       "      <td>3</td>\n",
       "      <td>1</td>\n",
       "      <td>5</td>\n",
       "    </tr>\n",
       "    <tr>\n",
       "      <th>6679</th>\n",
       "      <td>9.991300e+10</td>\n",
       "      <td>9500.0</td>\n",
       "      <td>1</td>\n",
       "      <td>1</td>\n",
       "      <td>3</td>\n",
       "    </tr>\n",
       "    <tr>\n",
       "      <th>6680</th>\n",
       "      <td>9.991500e+10</td>\n",
       "      <td>11000.0</td>\n",
       "      <td>1</td>\n",
       "      <td>1</td>\n",
       "      <td>4</td>\n",
       "    </tr>\n",
       "    <tr>\n",
       "      <th>6681</th>\n",
       "      <td>9.991600e+10</td>\n",
       "      <td>3500.0</td>\n",
       "      <td>1</td>\n",
       "      <td>1</td>\n",
       "      <td>1</td>\n",
       "    </tr>\n",
       "    <tr>\n",
       "      <th>6682</th>\n",
       "      <td>9.996699e+10</td>\n",
       "      <td>7500.0</td>\n",
       "      <td>5</td>\n",
       "      <td>1</td>\n",
       "      <td>2</td>\n",
       "    </tr>\n",
       "  </tbody>\n",
       "</table>\n",
       "<p>6683 rows × 5 columns</p>\n",
       "</div>"
      ],
      "text/plain": [
       "        CustomerID  Monetary Recency_R Frequency_F Monetary_M\n",
       "0     1.910000e+02    8000.0         5           1          3\n",
       "1     3.001200e+06    8500.0         4           3          3\n",
       "2     3.004800e+06    3500.0         1           1          1\n",
       "3     3.600059e+06   43600.0         4           3          5\n",
       "4     3.800026e+06   10500.0         3           1          4\n",
       "...            ...       ...       ...         ...        ...\n",
       "6678  9.988000e+10   17000.0         3           1          5\n",
       "6679  9.991300e+10    9500.0         1           1          3\n",
       "6680  9.991500e+10   11000.0         1           1          4\n",
       "6681  9.991600e+10    3500.0         1           1          1\n",
       "6682  9.996699e+10    7500.0         5           1          2\n",
       "\n",
       "[6683 rows x 5 columns]"
      ]
     },
     "execution_count": 108,
     "metadata": {},
     "output_type": "execute_result"
    }
   ],
   "source": [
    "rfm_score = rfm_score.rename(columns={'고객ID':'CustomerID', 'MonetaryValue':'Monetary', 'R':'Recency_R', 'F':'Frequency_F', 'M':'Monetary_M'})\n",
    "rfm_score"
   ]
  },
  {
   "cell_type": "code",
   "execution_count": 109,
   "id": "a5052d65",
   "metadata": {
    "ExecuteTime": {
     "end_time": "2023-06-22T08:19:39.021158Z",
     "start_time": "2023-06-22T08:19:38.988524Z"
    }
   },
   "outputs": [],
   "source": [
    "# 사전 준비 코드\n",
    "\n",
    "def get_score(level, data, reverse = False):\n",
    "    '''\n",
    "    Description :\n",
    "    level안에 있는 원소를 기준으로\n",
    "    1 ~ len(level)+ 1 까지 점수를 부여하는 함수\n",
    "    \n",
    "    Parameters :\n",
    "    level = 튜플 또는 리스트 타입의 숫자형 데이터이며 반드시 오름차순으로 정렬되어 있어야함.\n",
    "    예 - [1,2,3,4,5] O, [5,4,3,2,1] X, [1,3,2,10,4] X \n",
    "    data = 점수를 부여할 데이터. 순회가능한(iterable) 데이터 형식\n",
    "    reverse = 점수가 높을 때 그에 해당하는 값을 낮게 설정하고 싶을 때 True\n",
    "    return :\n",
    "    점수를 담고 있는 리스트 반환\n",
    "    '''\n",
    "    score = [] \n",
    "    for j in range(len(data)): \n",
    "        for i in range(len(level)): \n",
    "            if data[j] <= level[i]: \n",
    "                score.append(i+1) \n",
    "                break \n",
    "            elif data[j] > max(level): \n",
    "                score.append(len(level)+1) \n",
    "                break \n",
    "            else: \n",
    "                continue\n",
    "    if reverse:\n",
    "        return [len(level)+2-x for x in score]\n",
    "    else:\n",
    "        return score \n",
    "\n",
    "grid_number = 100 ## 눈금 개수, 너무 크게 잡으면 메모리 문제가 발생할 수 있음.\n",
    "weights = []\n",
    "for j in range(grid_number+1):\n",
    "    weights += [(i/grid_number,j/grid_number,(grid_number-i-j)/grid_number)\n",
    "                  for i in range(grid_number+1-j)]\n",
    "num_class = 5 ## 클래스 개수\n",
    "class_level = np.linspace(1,5,num_class+1)[1:-1] ## 클래스를 나누는 지점을 정한다.\n",
    "total_amount_of_sales = rfm_score['Monetary'].sum() ## 구매금액 총합 = 총 매출"
   ]
  },
  {
   "cell_type": "code",
   "execution_count": 110,
   "id": "545a7bb4",
   "metadata": {
    "ExecuteTime": {
     "end_time": "2023-06-22T08:19:44.112093Z",
     "start_time": "2023-06-22T08:19:44.088391Z"
    }
   },
   "outputs": [
    {
     "data": {
      "text/plain": [
       "array([1.8, 2.6, 3.4, 4.2])"
      ]
     },
     "execution_count": 110,
     "metadata": {},
     "output_type": "execute_result"
    }
   ],
   "source": [
    "# 가중치와 RFM 점수를 이용한 총점수가 1.8 이하이면 5등급, 4.2점 이상이면 1등급.\n",
    "class_level"
   ]
  },
  {
   "cell_type": "code",
   "execution_count": 111,
   "id": "6e76c76e",
   "metadata": {
    "ExecuteTime": {
     "end_time": "2023-06-22T08:19:53.367473Z",
     "start_time": "2023-06-22T08:19:53.328300Z"
    }
   },
   "outputs": [
    {
     "name": "stdout",
     "output_type": "stream",
     "text": [
      "<class 'pandas.core.frame.DataFrame'>\n",
      "RangeIndex: 6683 entries, 0 to 6682\n",
      "Data columns (total 5 columns):\n",
      " #   Column       Non-Null Count  Dtype  \n",
      "---  ------       --------------  -----  \n",
      " 0   CustomerID   6683 non-null   float64\n",
      " 1   Monetary     6683 non-null   float64\n",
      " 2   Recency_R    6683 non-null   int32  \n",
      " 3   Frequency_F  6683 non-null   int32  \n",
      " 4   Monetary_M   6683 non-null   int32  \n",
      "dtypes: float64(2), int32(3)\n",
      "memory usage: 182.9 KB\n"
     ]
    }
   ],
   "source": [
    "rfm_score[['Recency_R', 'Frequency_F', 'Monetary_M']] = rfm_score[['Recency_R', 'Frequency_F', 'Monetary_M']].astype('int')\n",
    "rfm_score.info()"
   ]
  },
  {
   "cell_type": "code",
   "execution_count": 112,
   "id": "993bdebc",
   "metadata": {
    "ExecuteTime": {
     "end_time": "2023-06-22T08:38:16.086997Z",
     "start_time": "2023-06-22T08:20:02.672463Z"
    }
   },
   "outputs": [
    {
     "name": "stderr",
     "output_type": "stream",
     "text": [
      "[Finding Optimal weights]: 100%|██████████| 5151/5151 [18:13<00:00,  4.71it/s]\n"
     ]
    }
   ],
   "source": [
    "max_std = 0 ## 표준편차 초기값\n",
    "for w in tqdm(weights,position=0,desc = '[Finding Optimal weights]'):\n",
    "    ## 주어진 가중치에 따른 고객별 점수 계산\n",
    "    score = w[0]*rfm_score['Recency_R'] + \\\n",
    "                        w[1]*rfm_score['Frequency_F'] + \\\n",
    "                        w[2]*rfm_score['Monetary_M'] \n",
    "    rfm_score['Class'] = get_score(class_level,score,True) ## 점수를 이용하여 고객별 등급 부여\n",
    "    ## 등급별로 구매금액을 집계한다.\n",
    "    grouped_rfm_score = rfm_score.groupby('Class')['Monetary'].sum().reset_index()\n",
    "    \n",
    "    ## 제약조건 추가 - 등급이 높은 고객들의 매출이 낮은 등급의 고객들보다 커야한다.\n",
    "    grouped_rfm_score = grouped_rfm_score.sort_values('Class')\n",
    "    \n",
    "    temp_monetary = list(grouped_rfm_score['Monetary'])\n",
    "    if temp_monetary != sorted(temp_monetary,reverse=True):\n",
    "        continue\n",
    "    \n",
    "    ## 클래스별 구매금액을 총구매금액으로 나누어 클래스별 매출 기여도 계산\n",
    "    grouped_rfm_score['Monetary'] = grouped_rfm_score['Monetary'].map(lambda x : x/total_amount_of_sales)\n",
    "    std_sales = grouped_rfm_score['Monetary'].std() ## 매출 기여도의 표준편차 계산\n",
    "    if max_std <= std_sales:\n",
    "        max_std = std_sales ## 표준편차 최대값 업데이트\n",
    "        optimal_weights = w  ## 가중치 업데이트"
   ]
  },
  {
   "cell_type": "code",
   "execution_count": 113,
   "id": "3c03d7a2",
   "metadata": {
    "ExecuteTime": {
     "end_time": "2023-06-22T08:38:21.609614Z",
     "start_time": "2023-06-22T08:38:21.593724Z"
    }
   },
   "outputs": [
    {
     "data": {
      "text/plain": [
       "(0.0, 0.19, 0.81)"
      ]
     },
     "execution_count": 113,
     "metadata": {},
     "output_type": "execute_result"
    }
   ],
   "source": [
    "optimal_weights"
   ]
  },
  {
   "cell_type": "code",
   "execution_count": 114,
   "id": "387894fe",
   "metadata": {
    "ExecuteTime": {
     "end_time": "2023-06-22T08:38:26.797683Z",
     "start_time": "2023-06-22T08:38:26.569485Z"
    }
   },
   "outputs": [],
   "source": [
    "score = optimal_weights[0]*rfm_score['Recency_R'] + optimal_weights[1]*rfm_score['Frequency_F'] + optimal_weights[2]*rfm_score['Monetary_M'] ## 고객별 점수 계산\n",
    "\n",
    "rfm_score['Class'] = get_score(class_level,score,True) ## 고객별 등급 부여"
   ]
  },
  {
   "cell_type": "code",
   "execution_count": 115,
   "id": "56bf4004",
   "metadata": {
    "ExecuteTime": {
     "end_time": "2023-06-22T08:38:27.773970Z",
     "start_time": "2023-06-22T08:38:27.738167Z"
    }
   },
   "outputs": [
    {
     "data": {
      "text/html": [
       "<div>\n",
       "<style scoped>\n",
       "    .dataframe tbody tr th:only-of-type {\n",
       "        vertical-align: middle;\n",
       "    }\n",
       "\n",
       "    .dataframe tbody tr th {\n",
       "        vertical-align: top;\n",
       "    }\n",
       "\n",
       "    .dataframe thead th {\n",
       "        text-align: right;\n",
       "    }\n",
       "</style>\n",
       "<table border=\"1\" class=\"dataframe\">\n",
       "  <thead>\n",
       "    <tr style=\"text-align: right;\">\n",
       "      <th></th>\n",
       "      <th>Class</th>\n",
       "      <th>Count</th>\n",
       "      <th>Contribution</th>\n",
       "    </tr>\n",
       "  </thead>\n",
       "  <tbody>\n",
       "    <tr>\n",
       "      <th>0</th>\n",
       "      <td>1</td>\n",
       "      <td>1266</td>\n",
       "      <td>0.489715</td>\n",
       "    </tr>\n",
       "    <tr>\n",
       "      <th>1</th>\n",
       "      <td>2</td>\n",
       "      <td>1318</td>\n",
       "      <td>0.197089</td>\n",
       "    </tr>\n",
       "    <tr>\n",
       "      <th>2</th>\n",
       "      <td>3</td>\n",
       "      <td>1209</td>\n",
       "      <td>0.129561</td>\n",
       "    </tr>\n",
       "    <tr>\n",
       "      <th>3</th>\n",
       "      <td>4</td>\n",
       "      <td>1397</td>\n",
       "      <td>0.114422</td>\n",
       "    </tr>\n",
       "    <tr>\n",
       "      <th>4</th>\n",
       "      <td>5</td>\n",
       "      <td>1493</td>\n",
       "      <td>0.069214</td>\n",
       "    </tr>\n",
       "  </tbody>\n",
       "</table>\n",
       "</div>"
      ],
      "text/plain": [
       "   Class  Count  Contribution\n",
       "0      1   1266      0.489715\n",
       "1      2   1318      0.197089\n",
       "2      3   1209      0.129561\n",
       "3      4   1397      0.114422\n",
       "4      5   1493      0.069214"
      ]
     },
     "execution_count": 115,
     "metadata": {},
     "output_type": "execute_result"
    }
   ],
   "source": [
    "## 클래스별 고객 수 계산\n",
    "temp_rfm_score1 = rfm_score.groupby('Class')['CustomerID'].count().reset_index().rename(columns={'CustomerID':'Count'})\n",
    " \n",
    "## 클래스별 구매금액(매출)계산\n",
    "temp_rfm_score2 = rfm_score.groupby('Class')['Monetary'].sum().reset_index()\n",
    " \n",
    "## 클래스별 매출 기여도 계산\n",
    "temp_rfm_score2['Monetary'] = temp_rfm_score2['Monetary'].map(lambda x : x/total_amount_of_sales)\n",
    " \n",
    "## 데이터 결합\n",
    "result_df = pd.merge(temp_rfm_score1,temp_rfm_score2,how='left',on=('Class'))\n",
    "result_df = result_df.rename(columns={'Monetary':'Contribution'})\n",
    "result_df"
   ]
  },
  {
   "cell_type": "code",
   "execution_count": 119,
   "id": "e4e6bb97",
   "metadata": {
    "ExecuteTime": {
     "end_time": "2023-06-22T08:40:46.642826Z",
     "start_time": "2023-06-22T08:40:46.618780Z"
    }
   },
   "outputs": [
    {
     "data": {
      "text/plain": [
       "Class\n",
       "5    0.223403\n",
       "4    0.209038\n",
       "2    0.197217\n",
       "1    0.189436\n",
       "3    0.180907\n",
       "Name: proportion, dtype: float64"
      ]
     },
     "execution_count": 119,
     "metadata": {},
     "output_type": "execute_result"
    }
   ],
   "source": [
    "rfm_score['Class'].value_counts(1)"
   ]
  },
  {
   "cell_type": "markdown",
   "id": "1f683ca8",
   "metadata": {},
   "source": [
    "## R, F, M 점수를 기준으로 임의의 집단을 설정하는 RFM"
   ]
  },
  {
   "attachments": {
    "image.png": {
     "image/png": "[encoded data removed]"
    }
   },
   "cell_type": "markdown",
   "id": "71bcd388",
   "metadata": {},
   "source": [
    "### R, F, M 점수 부여\n",
    "![image.png](attachment:image.png)\n",
    "(출처: https://tableauwiki.com/rfm/)"
   ]
  },
  {
   "attachments": {
    "image.png": {
     "image/png": "[encoded data removed]"
    }
   },
   "cell_type": "markdown",
   "id": "a3925196",
   "metadata": {},
   "source": [
    "* 'F'의 경우 위의 예시처럼 균등하게 구간을 나누지 않고 아래의 표로 진행함.\n",
    "![image.png](attachment:image.png)"
   ]
  },
  {
   "cell_type": "code",
   "execution_count": 122,
   "id": "a0e58d67",
   "metadata": {
    "ExecuteTime": {
     "end_time": "2023-06-22T12:06:14.994652Z",
     "start_time": "2023-06-22T12:06:13.660101Z"
    }
   },
   "outputs": [
    {
     "data": {
      "text/html": [
       "<div>\n",
       "<style scoped>\n",
       "    .dataframe tbody tr th:only-of-type {\n",
       "        vertical-align: middle;\n",
       "    }\n",
       "\n",
       "    .dataframe tbody tr th {\n",
       "        vertical-align: top;\n",
       "    }\n",
       "\n",
       "    .dataframe thead th {\n",
       "        text-align: right;\n",
       "    }\n",
       "</style>\n",
       "<table border=\"1\" class=\"dataframe\">\n",
       "  <thead>\n",
       "    <tr style=\"text-align: right;\">\n",
       "      <th></th>\n",
       "      <th>Recency</th>\n",
       "      <th>Frequency</th>\n",
       "      <th>Monetary</th>\n",
       "    </tr>\n",
       "    <tr>\n",
       "      <th>고객ID</th>\n",
       "      <th></th>\n",
       "      <th></th>\n",
       "      <th></th>\n",
       "    </tr>\n",
       "  </thead>\n",
       "  <tbody>\n",
       "    <tr>\n",
       "      <th>1.910000e+02</th>\n",
       "      <td>48</td>\n",
       "      <td>1</td>\n",
       "      <td>8000.0</td>\n",
       "    </tr>\n",
       "    <tr>\n",
       "      <th>3.001200e+06</th>\n",
       "      <td>118</td>\n",
       "      <td>3</td>\n",
       "      <td>8500.0</td>\n",
       "    </tr>\n",
       "    <tr>\n",
       "      <th>3.004800e+06</th>\n",
       "      <td>418</td>\n",
       "      <td>1</td>\n",
       "      <td>3500.0</td>\n",
       "    </tr>\n",
       "    <tr>\n",
       "      <th>3.600059e+06</th>\n",
       "      <td>83</td>\n",
       "      <td>3</td>\n",
       "      <td>43600.0</td>\n",
       "    </tr>\n",
       "    <tr>\n",
       "      <th>3.800026e+06</th>\n",
       "      <td>173</td>\n",
       "      <td>1</td>\n",
       "      <td>10500.0</td>\n",
       "    </tr>\n",
       "    <tr>\n",
       "      <th>...</th>\n",
       "      <td>...</td>\n",
       "      <td>...</td>\n",
       "      <td>...</td>\n",
       "    </tr>\n",
       "    <tr>\n",
       "      <th>9.988000e+10</th>\n",
       "      <td>179</td>\n",
       "      <td>1</td>\n",
       "      <td>17000.0</td>\n",
       "    </tr>\n",
       "    <tr>\n",
       "      <th>9.991300e+10</th>\n",
       "      <td>500</td>\n",
       "      <td>1</td>\n",
       "      <td>9500.0</td>\n",
       "    </tr>\n",
       "    <tr>\n",
       "      <th>9.991500e+10</th>\n",
       "      <td>488</td>\n",
       "      <td>1</td>\n",
       "      <td>11000.0</td>\n",
       "    </tr>\n",
       "    <tr>\n",
       "      <th>9.991600e+10</th>\n",
       "      <td>407</td>\n",
       "      <td>1</td>\n",
       "      <td>3500.0</td>\n",
       "    </tr>\n",
       "    <tr>\n",
       "      <th>9.996699e+10</th>\n",
       "      <td>5</td>\n",
       "      <td>1</td>\n",
       "      <td>7500.0</td>\n",
       "    </tr>\n",
       "  </tbody>\n",
       "</table>\n",
       "<p>6683 rows × 3 columns</p>\n",
       "</div>"
      ],
      "text/plain": [
       "              Recency  Frequency  Monetary\n",
       "고객ID                                      \n",
       "1.910000e+02       48          1    8000.0\n",
       "3.001200e+06      118          3    8500.0\n",
       "3.004800e+06      418          1    3500.0\n",
       "3.600059e+06       83          3   43600.0\n",
       "3.800026e+06      173          1   10500.0\n",
       "...               ...        ...       ...\n",
       "9.988000e+10      179          1   17000.0\n",
       "9.991300e+10      500          1    9500.0\n",
       "9.991500e+10      488          1   11000.0\n",
       "9.991600e+10      407          1    3500.0\n",
       "9.996699e+10        5          1    7500.0\n",
       "\n",
       "[6683 rows x 3 columns]"
      ]
     },
     "execution_count": 122,
     "metadata": {},
     "output_type": "execute_result"
    }
   ],
   "source": [
    "# RFM 데이터프레임만들기\n",
    "# Recency : 최근 거래 기준일(last_timestamp)과 고객별 최근 구매한 날짜(x.max())와 차이값\n",
    "# Frequency : 구매 빈도수\n",
    "# Monetary : 총 구매 금액\n",
    "rfm = df.groupby(\"고객ID\").agg({\"일자\": [lambda x : (last_timestamp - x.max()).days, \"nunique\"], # '재주문'이 아닌 '재방문' 기준\n",
    "                                    \"가격\":\"sum\"})\n",
    "rfm.columns = [\"Recency\", \"Frequency\", \"Monetary\"]\n",
    "rfm"
   ]
  },
  {
   "cell_type": "code",
   "execution_count": 123,
   "id": "410e4c9e",
   "metadata": {
    "ExecuteTime": {
     "end_time": "2023-06-22T12:06:16.112529Z",
     "start_time": "2023-06-22T12:06:16.098486Z"
    }
   },
   "outputs": [],
   "source": [
    "# RFM에 부여할 숫자 등급 범위 만들기\n",
    "r_labels = list(range(4, 0, -1))\n",
    "m_labels = list(range(1, 5))\n",
    "cut_size = 4"
   ]
  },
  {
   "cell_type": "code",
   "execution_count": 124,
   "id": "f9295d7a",
   "metadata": {
    "ExecuteTime": {
     "end_time": "2023-06-22T12:06:18.194281Z",
     "start_time": "2023-06-22T12:06:18.173049Z"
    }
   },
   "outputs": [],
   "source": [
    "# RFM 구간화 (1~4)\n",
    "r_cut = pd.qcut(rfm[\"Recency\"], cut_size, r_labels)\n",
    "m_cut = pd.qcut(rfm[\"Monetary\"], cut_size, m_labels)"
   ]
  },
  {
   "cell_type": "code",
   "execution_count": 125,
   "id": "09398c1f",
   "metadata": {
    "ExecuteTime": {
     "end_time": "2023-06-22T12:06:20.234996Z",
     "start_time": "2023-06-22T12:06:20.174715Z"
    }
   },
   "outputs": [
    {
     "data": {
      "text/html": [
       "<div>\n",
       "<style scoped>\n",
       "    .dataframe tbody tr th:only-of-type {\n",
       "        vertical-align: middle;\n",
       "    }\n",
       "\n",
       "    .dataframe tbody tr th {\n",
       "        vertical-align: top;\n",
       "    }\n",
       "\n",
       "    .dataframe thead th {\n",
       "        text-align: right;\n",
       "    }\n",
       "</style>\n",
       "<table border=\"1\" class=\"dataframe\">\n",
       "  <thead>\n",
       "    <tr style=\"text-align: right;\">\n",
       "      <th></th>\n",
       "      <th>Recency</th>\n",
       "      <th>Frequency</th>\n",
       "      <th>Monetary</th>\n",
       "      <th>R</th>\n",
       "      <th>M</th>\n",
       "    </tr>\n",
       "    <tr>\n",
       "      <th>고객ID</th>\n",
       "      <th></th>\n",
       "      <th></th>\n",
       "      <th></th>\n",
       "      <th></th>\n",
       "      <th></th>\n",
       "    </tr>\n",
       "  </thead>\n",
       "  <tbody>\n",
       "    <tr>\n",
       "      <th>1.910000e+02</th>\n",
       "      <td>48</td>\n",
       "      <td>1</td>\n",
       "      <td>8000.0</td>\n",
       "      <td>4</td>\n",
       "      <td>2</td>\n",
       "    </tr>\n",
       "    <tr>\n",
       "      <th>3.001200e+06</th>\n",
       "      <td>118</td>\n",
       "      <td>3</td>\n",
       "      <td>8500.0</td>\n",
       "      <td>3</td>\n",
       "      <td>2</td>\n",
       "    </tr>\n",
       "    <tr>\n",
       "      <th>3.004800e+06</th>\n",
       "      <td>418</td>\n",
       "      <td>1</td>\n",
       "      <td>3500.0</td>\n",
       "      <td>1</td>\n",
       "      <td>1</td>\n",
       "    </tr>\n",
       "    <tr>\n",
       "      <th>3.600059e+06</th>\n",
       "      <td>83</td>\n",
       "      <td>3</td>\n",
       "      <td>43600.0</td>\n",
       "      <td>4</td>\n",
       "      <td>4</td>\n",
       "    </tr>\n",
       "    <tr>\n",
       "      <th>3.800026e+06</th>\n",
       "      <td>173</td>\n",
       "      <td>1</td>\n",
       "      <td>10500.0</td>\n",
       "      <td>3</td>\n",
       "      <td>3</td>\n",
       "    </tr>\n",
       "    <tr>\n",
       "      <th>...</th>\n",
       "      <td>...</td>\n",
       "      <td>...</td>\n",
       "      <td>...</td>\n",
       "      <td>...</td>\n",
       "      <td>...</td>\n",
       "    </tr>\n",
       "    <tr>\n",
       "      <th>9.988000e+10</th>\n",
       "      <td>179</td>\n",
       "      <td>1</td>\n",
       "      <td>17000.0</td>\n",
       "      <td>3</td>\n",
       "      <td>4</td>\n",
       "    </tr>\n",
       "    <tr>\n",
       "      <th>9.991300e+10</th>\n",
       "      <td>500</td>\n",
       "      <td>1</td>\n",
       "      <td>9500.0</td>\n",
       "      <td>1</td>\n",
       "      <td>3</td>\n",
       "    </tr>\n",
       "    <tr>\n",
       "      <th>9.991500e+10</th>\n",
       "      <td>488</td>\n",
       "      <td>1</td>\n",
       "      <td>11000.0</td>\n",
       "      <td>1</td>\n",
       "      <td>3</td>\n",
       "    </tr>\n",
       "    <tr>\n",
       "      <th>9.991600e+10</th>\n",
       "      <td>407</td>\n",
       "      <td>1</td>\n",
       "      <td>3500.0</td>\n",
       "      <td>1</td>\n",
       "      <td>1</td>\n",
       "    </tr>\n",
       "    <tr>\n",
       "      <th>9.996699e+10</th>\n",
       "      <td>5</td>\n",
       "      <td>1</td>\n",
       "      <td>7500.0</td>\n",
       "      <td>4</td>\n",
       "      <td>2</td>\n",
       "    </tr>\n",
       "  </tbody>\n",
       "</table>\n",
       "<p>6683 rows × 5 columns</p>\n",
       "</div>"
      ],
      "text/plain": [
       "              Recency  Frequency  Monetary  R  M\n",
       "고객ID                                            \n",
       "1.910000e+02       48          1    8000.0  4  2\n",
       "3.001200e+06      118          3    8500.0  3  2\n",
       "3.004800e+06      418          1    3500.0  1  1\n",
       "3.600059e+06       83          3   43600.0  4  4\n",
       "3.800026e+06      173          1   10500.0  3  3\n",
       "...               ...        ...       ... .. ..\n",
       "9.988000e+10      179          1   17000.0  3  4\n",
       "9.991300e+10      500          1    9500.0  1  3\n",
       "9.991500e+10      488          1   11000.0  1  3\n",
       "9.991600e+10      407          1    3500.0  1  1\n",
       "9.996699e+10        5          1    7500.0  4  2\n",
       "\n",
       "[6683 rows x 5 columns]"
      ]
     },
     "execution_count": 125,
     "metadata": {},
     "output_type": "execute_result"
    }
   ],
   "source": [
    "# R, F, M 점수 컬럼 한꺼번에 만들기\n",
    "rfm = rfm.assign(R=r_cut, M=m_cut)\n",
    "rfm"
   ]
  },
  {
   "cell_type": "code",
   "execution_count": 126,
   "id": "9fe1dcac",
   "metadata": {
    "ExecuteTime": {
     "end_time": "2023-06-22T12:06:23.063961Z",
     "start_time": "2023-06-22T12:06:23.033482Z"
    }
   },
   "outputs": [
    {
     "data": {
      "text/html": [
       "<div>\n",
       "<style scoped>\n",
       "    .dataframe tbody tr th:only-of-type {\n",
       "        vertical-align: middle;\n",
       "    }\n",
       "\n",
       "    .dataframe tbody tr th {\n",
       "        vertical-align: top;\n",
       "    }\n",
       "\n",
       "    .dataframe thead th {\n",
       "        text-align: right;\n",
       "    }\n",
       "</style>\n",
       "<table border=\"1\" class=\"dataframe\">\n",
       "  <thead>\n",
       "    <tr style=\"text-align: right;\">\n",
       "      <th></th>\n",
       "      <th>Recency</th>\n",
       "      <th>Frequency</th>\n",
       "      <th>Monetary</th>\n",
       "      <th>R</th>\n",
       "      <th>M</th>\n",
       "      <th>F</th>\n",
       "    </tr>\n",
       "    <tr>\n",
       "      <th>고객ID</th>\n",
       "      <th></th>\n",
       "      <th></th>\n",
       "      <th></th>\n",
       "      <th></th>\n",
       "      <th></th>\n",
       "      <th></th>\n",
       "    </tr>\n",
       "  </thead>\n",
       "  <tbody>\n",
       "    <tr>\n",
       "      <th>1.910000e+02</th>\n",
       "      <td>48</td>\n",
       "      <td>1</td>\n",
       "      <td>8000.0</td>\n",
       "      <td>4</td>\n",
       "      <td>2</td>\n",
       "      <td>1</td>\n",
       "    </tr>\n",
       "    <tr>\n",
       "      <th>3.001200e+06</th>\n",
       "      <td>118</td>\n",
       "      <td>3</td>\n",
       "      <td>8500.0</td>\n",
       "      <td>3</td>\n",
       "      <td>2</td>\n",
       "      <td>3</td>\n",
       "    </tr>\n",
       "    <tr>\n",
       "      <th>3.004800e+06</th>\n",
       "      <td>418</td>\n",
       "      <td>1</td>\n",
       "      <td>3500.0</td>\n",
       "      <td>1</td>\n",
       "      <td>1</td>\n",
       "      <td>1</td>\n",
       "    </tr>\n",
       "    <tr>\n",
       "      <th>3.600059e+06</th>\n",
       "      <td>83</td>\n",
       "      <td>3</td>\n",
       "      <td>43600.0</td>\n",
       "      <td>4</td>\n",
       "      <td>4</td>\n",
       "      <td>3</td>\n",
       "    </tr>\n",
       "    <tr>\n",
       "      <th>3.800026e+06</th>\n",
       "      <td>173</td>\n",
       "      <td>1</td>\n",
       "      <td>10500.0</td>\n",
       "      <td>3</td>\n",
       "      <td>3</td>\n",
       "      <td>1</td>\n",
       "    </tr>\n",
       "    <tr>\n",
       "      <th>...</th>\n",
       "      <td>...</td>\n",
       "      <td>...</td>\n",
       "      <td>...</td>\n",
       "      <td>...</td>\n",
       "      <td>...</td>\n",
       "      <td>...</td>\n",
       "    </tr>\n",
       "    <tr>\n",
       "      <th>9.988000e+10</th>\n",
       "      <td>179</td>\n",
       "      <td>1</td>\n",
       "      <td>17000.0</td>\n",
       "      <td>3</td>\n",
       "      <td>4</td>\n",
       "      <td>1</td>\n",
       "    </tr>\n",
       "    <tr>\n",
       "      <th>9.991300e+10</th>\n",
       "      <td>500</td>\n",
       "      <td>1</td>\n",
       "      <td>9500.0</td>\n",
       "      <td>1</td>\n",
       "      <td>3</td>\n",
       "      <td>1</td>\n",
       "    </tr>\n",
       "    <tr>\n",
       "      <th>9.991500e+10</th>\n",
       "      <td>488</td>\n",
       "      <td>1</td>\n",
       "      <td>11000.0</td>\n",
       "      <td>1</td>\n",
       "      <td>3</td>\n",
       "      <td>1</td>\n",
       "    </tr>\n",
       "    <tr>\n",
       "      <th>9.991600e+10</th>\n",
       "      <td>407</td>\n",
       "      <td>1</td>\n",
       "      <td>3500.0</td>\n",
       "      <td>1</td>\n",
       "      <td>1</td>\n",
       "      <td>1</td>\n",
       "    </tr>\n",
       "    <tr>\n",
       "      <th>9.996699e+10</th>\n",
       "      <td>5</td>\n",
       "      <td>1</td>\n",
       "      <td>7500.0</td>\n",
       "      <td>4</td>\n",
       "      <td>2</td>\n",
       "      <td>1</td>\n",
       "    </tr>\n",
       "  </tbody>\n",
       "</table>\n",
       "<p>6683 rows × 6 columns</p>\n",
       "</div>"
      ],
      "text/plain": [
       "              Recency  Frequency  Monetary  R  M  F\n",
       "고객ID                                               \n",
       "1.910000e+02       48          1    8000.0  4  2  1\n",
       "3.001200e+06      118          3    8500.0  3  2  3\n",
       "3.004800e+06      418          1    3500.0  1  1  1\n",
       "3.600059e+06       83          3   43600.0  4  4  3\n",
       "3.800026e+06      173          1   10500.0  3  3  1\n",
       "...               ...        ...       ... .. .. ..\n",
       "9.988000e+10      179          1   17000.0  3  4  1\n",
       "9.991300e+10      500          1    9500.0  1  3  1\n",
       "9.991500e+10      488          1   11000.0  1  3  1\n",
       "9.991600e+10      407          1    3500.0  1  1  1\n",
       "9.996699e+10        5          1    7500.0  4  2  1\n",
       "\n",
       "[6683 rows x 6 columns]"
      ]
     },
     "execution_count": 126,
     "metadata": {},
     "output_type": "execute_result"
    }
   ],
   "source": [
    "# F 컬럼 만들기\n",
    "# Frequency가 1인 경우 1, 2인 경우 2, 3인 경우 3, 나머지인 경우 4~5로 분류\n",
    "# Frequency가 1, 2, 3의 구성비율이 유의미하게 크다고 생각하여 별도로 그룹을 부여함.\n",
    "\n",
    "rfm['F'] = 0 # 기본값을 0으로 지정\n",
    "rfm.loc[rfm['Frequency'] == 1, 'F'] = 1\n",
    "rfm.loc[rfm['Frequency'] == 2, 'F'] = 2\n",
    "rfm.loc[rfm['Frequency'] == 3, 'F'] = 3\n",
    "rfm.loc[rfm['Frequency'] > 3, 'F'] = 4\n",
    "\n",
    "# 'F'컬럼 형변환 : int -> category\n",
    "rfm['F'] = rfm['F'].astype('category')\n",
    "\n",
    "rfm"
   ]
  },
  {
   "attachments": {
    "image.png": {
     "image/png": "[encoded data removed]"
    }
   },
   "cell_type": "markdown",
   "id": "e53bad5d",
   "metadata": {},
   "source": [
    "### 고객 분류\n",
    "![image.png](attachment:image.png)\n",
    "(출처: https://tableauwiki.com/rfm/)"
   ]
  },
  {
   "cell_type": "code",
   "execution_count": 127,
   "id": "80232f48",
   "metadata": {
    "ExecuteTime": {
     "end_time": "2023-06-22T12:10:08.727057Z",
     "start_time": "2023-06-22T12:10:07.184615Z"
    }
   },
   "outputs": [],
   "source": [
    "# segmentation 컬럼 생성\n",
    "rfm['segmentation'] = ''\n",
    "\n",
    "# 조건에 따라 segmentation 값 입력\n",
    "for index, row in rfm.iterrows():\n",
    "    if row['F'] >= 4 and row['M'] >= 4 and row['R'] >= 4:\n",
    "        rfm.at[index, 'segmentation'] = 'VIP 고객'\n",
    "    elif row['R'] >= 2 and row['R'] <= 4 and row['F'] >= 3 and row['F'] <= 4 and row['M'] >= 4:\n",
    "        rfm.at[index, 'segmentation'] = '충성 고객'\n",
    "    elif row['R'] >= 3 and row['F'] >= 1 and row['F'] <= 3 and row['M'] >= 1 and row['M'] <= 3:\n",
    "        rfm.at[index, 'segmentation'] = '잠재 충성 고객'\n",
    "    elif row['R'] >= 4 and row['F'] < 2 and row['M'] < 2:\n",
    "        rfm.at[index, 'segmentation'] = '신규 고객'\n",
    "    elif row['R'] >= 3 and row['R'] <= 4 and row['F'] < 2 and row['M'] < 2:\n",
    "        rfm.at[index, 'segmentation'] = '잠재 고객'\n",
    "    elif row['R'] >= 3 and row['R'] <= 4 and row['F'] >= 3 and row['F'] <= 4 and row['M'] >= 3 and row['M'] <= 4:\n",
    "        rfm.at[index, 'segmentation'] = '관심 필요 고객'\n",
    "    elif row['R'] >= 2 and row['R'] <= 3 and row['F'] < 3 and row['M'] < 3:\n",
    "        rfm.at[index, 'segmentation'] = '잠드려는 고객'\n",
    "    elif row['R'] < 3 and row['F'] >= 2 and row['F'] <= 4 and row['M'] >= 2 and row['M'] <= 4:\n",
    "        rfm.at[index, 'segmentation'] = '이탈 우려 고객'\n",
    "    elif row['R'] < 2 and row['F'] >= 4 and row['M'] >= 4:\n",
    "        rfm.at[index, 'segmentation'] = '놓치면 안되는 고객'\n",
    "    elif row['R'] >= 2 and row['R'] <= 3 and row['F'] >= 2 and row['F'] <= 3 and row['M'] >= 2 and row['M'] <= 3:\n",
    "        rfm.at[index, 'segmentation'] = '겨울잠 고객'\n",
    "    elif row['R'] == 1 and row['F'] == 1 and row['M'] == 1:\n",
    "        rfm.at[index, 'segmentation'] = '이탈 고객'\n",
    "    else:\n",
    "        rfm.at[index, 'segmentation'] = '기타'\n"
   ]
  },
  {
   "cell_type": "code",
   "execution_count": 128,
   "id": "e11e145f",
   "metadata": {
    "ExecuteTime": {
     "end_time": "2023-06-22T12:10:12.441916Z",
     "start_time": "2023-06-22T12:10:12.410427Z"
    }
   },
   "outputs": [
    {
     "data": {
      "text/html": [
       "<div>\n",
       "<style scoped>\n",
       "    .dataframe tbody tr th:only-of-type {\n",
       "        vertical-align: middle;\n",
       "    }\n",
       "\n",
       "    .dataframe tbody tr th {\n",
       "        vertical-align: top;\n",
       "    }\n",
       "\n",
       "    .dataframe thead th {\n",
       "        text-align: right;\n",
       "    }\n",
       "</style>\n",
       "<table border=\"1\" class=\"dataframe\">\n",
       "  <thead>\n",
       "    <tr style=\"text-align: right;\">\n",
       "      <th></th>\n",
       "      <th>Recency</th>\n",
       "      <th>Frequency</th>\n",
       "      <th>Monetary</th>\n",
       "      <th>R</th>\n",
       "      <th>M</th>\n",
       "      <th>F</th>\n",
       "      <th>segmentation</th>\n",
       "    </tr>\n",
       "    <tr>\n",
       "      <th>고객ID</th>\n",
       "      <th></th>\n",
       "      <th></th>\n",
       "      <th></th>\n",
       "      <th></th>\n",
       "      <th></th>\n",
       "      <th></th>\n",
       "      <th></th>\n",
       "    </tr>\n",
       "  </thead>\n",
       "  <tbody>\n",
       "    <tr>\n",
       "      <th>1.910000e+02</th>\n",
       "      <td>48</td>\n",
       "      <td>1</td>\n",
       "      <td>8000.0</td>\n",
       "      <td>4</td>\n",
       "      <td>2</td>\n",
       "      <td>1</td>\n",
       "      <td>잠재 충성 고객</td>\n",
       "    </tr>\n",
       "    <tr>\n",
       "      <th>3.001200e+06</th>\n",
       "      <td>118</td>\n",
       "      <td>3</td>\n",
       "      <td>8500.0</td>\n",
       "      <td>3</td>\n",
       "      <td>2</td>\n",
       "      <td>3</td>\n",
       "      <td>잠재 충성 고객</td>\n",
       "    </tr>\n",
       "    <tr>\n",
       "      <th>3.004800e+06</th>\n",
       "      <td>418</td>\n",
       "      <td>1</td>\n",
       "      <td>3500.0</td>\n",
       "      <td>1</td>\n",
       "      <td>1</td>\n",
       "      <td>1</td>\n",
       "      <td>이탈 고객</td>\n",
       "    </tr>\n",
       "    <tr>\n",
       "      <th>3.600059e+06</th>\n",
       "      <td>83</td>\n",
       "      <td>3</td>\n",
       "      <td>43600.0</td>\n",
       "      <td>4</td>\n",
       "      <td>4</td>\n",
       "      <td>3</td>\n",
       "      <td>충성 고객</td>\n",
       "    </tr>\n",
       "    <tr>\n",
       "      <th>3.800026e+06</th>\n",
       "      <td>173</td>\n",
       "      <td>1</td>\n",
       "      <td>10500.0</td>\n",
       "      <td>3</td>\n",
       "      <td>3</td>\n",
       "      <td>1</td>\n",
       "      <td>잠재 충성 고객</td>\n",
       "    </tr>\n",
       "    <tr>\n",
       "      <th>...</th>\n",
       "      <td>...</td>\n",
       "      <td>...</td>\n",
       "      <td>...</td>\n",
       "      <td>...</td>\n",
       "      <td>...</td>\n",
       "      <td>...</td>\n",
       "      <td>...</td>\n",
       "    </tr>\n",
       "    <tr>\n",
       "      <th>9.988000e+10</th>\n",
       "      <td>179</td>\n",
       "      <td>1</td>\n",
       "      <td>17000.0</td>\n",
       "      <td>3</td>\n",
       "      <td>4</td>\n",
       "      <td>1</td>\n",
       "      <td>기타</td>\n",
       "    </tr>\n",
       "    <tr>\n",
       "      <th>9.991300e+10</th>\n",
       "      <td>500</td>\n",
       "      <td>1</td>\n",
       "      <td>9500.0</td>\n",
       "      <td>1</td>\n",
       "      <td>3</td>\n",
       "      <td>1</td>\n",
       "      <td>기타</td>\n",
       "    </tr>\n",
       "    <tr>\n",
       "      <th>9.991500e+10</th>\n",
       "      <td>488</td>\n",
       "      <td>1</td>\n",
       "      <td>11000.0</td>\n",
       "      <td>1</td>\n",
       "      <td>3</td>\n",
       "      <td>1</td>\n",
       "      <td>기타</td>\n",
       "    </tr>\n",
       "    <tr>\n",
       "      <th>9.991600e+10</th>\n",
       "      <td>407</td>\n",
       "      <td>1</td>\n",
       "      <td>3500.0</td>\n",
       "      <td>1</td>\n",
       "      <td>1</td>\n",
       "      <td>1</td>\n",
       "      <td>이탈 고객</td>\n",
       "    </tr>\n",
       "    <tr>\n",
       "      <th>9.996699e+10</th>\n",
       "      <td>5</td>\n",
       "      <td>1</td>\n",
       "      <td>7500.0</td>\n",
       "      <td>4</td>\n",
       "      <td>2</td>\n",
       "      <td>1</td>\n",
       "      <td>잠재 충성 고객</td>\n",
       "    </tr>\n",
       "  </tbody>\n",
       "</table>\n",
       "<p>6683 rows × 7 columns</p>\n",
       "</div>"
      ],
      "text/plain": [
       "              Recency  Frequency  Monetary  R  M  F segmentation\n",
       "고객ID                                                            \n",
       "1.910000e+02       48          1    8000.0  4  2  1     잠재 충성 고객\n",
       "3.001200e+06      118          3    8500.0  3  2  3     잠재 충성 고객\n",
       "3.004800e+06      418          1    3500.0  1  1  1        이탈 고객\n",
       "3.600059e+06       83          3   43600.0  4  4  3        충성 고객\n",
       "3.800026e+06      173          1   10500.0  3  3  1     잠재 충성 고객\n",
       "...               ...        ...       ... .. .. ..          ...\n",
       "9.988000e+10      179          1   17000.0  3  4  1           기타\n",
       "9.991300e+10      500          1    9500.0  1  3  1           기타\n",
       "9.991500e+10      488          1   11000.0  1  3  1           기타\n",
       "9.991600e+10      407          1    3500.0  1  1  1        이탈 고객\n",
       "9.996699e+10        5          1    7500.0  4  2  1     잠재 충성 고객\n",
       "\n",
       "[6683 rows x 7 columns]"
      ]
     },
     "execution_count": 128,
     "metadata": {},
     "output_type": "execute_result"
    }
   ],
   "source": [
    "rfm"
   ]
  },
  {
   "cell_type": "code",
   "execution_count": 129,
   "id": "25660222",
   "metadata": {
    "ExecuteTime": {
     "end_time": "2023-06-22T12:10:49.705009Z",
     "start_time": "2023-06-22T12:10:49.685910Z"
    }
   },
   "outputs": [
    {
     "data": {
      "text/plain": [
       "segmentation\n",
       "잠재 충성 고객    2454\n",
       "기타          2341\n",
       "잠드려는 고객      898\n",
       "이탈 고객        471\n",
       "이탈 우려 고객     237\n",
       "충성 고객        205\n",
       "VIP 고객        77\n",
       "Name: count, dtype: int64"
      ]
     },
     "execution_count": 129,
     "metadata": {},
     "output_type": "execute_result"
    }
   ],
   "source": [
    "rfm['segmentation'].value_counts()"
   ]
  },
  {
   "cell_type": "code",
   "execution_count": 131,
   "id": "97d86a84",
   "metadata": {
    "ExecuteTime": {
     "end_time": "2023-06-22T12:11:21.658204Z",
     "start_time": "2023-06-22T12:11:21.558731Z"
    },
    "scrolled": true
   },
   "outputs": [
    {
     "data": {
      "text/html": [
       "<div>\n",
       "<style scoped>\n",
       "    .dataframe tbody tr th:only-of-type {\n",
       "        vertical-align: middle;\n",
       "    }\n",
       "\n",
       "    .dataframe tbody tr th {\n",
       "        vertical-align: top;\n",
       "    }\n",
       "\n",
       "    .dataframe thead th {\n",
       "        text-align: right;\n",
       "    }\n",
       "</style>\n",
       "<table border=\"1\" class=\"dataframe\">\n",
       "  <thead>\n",
       "    <tr style=\"text-align: right;\">\n",
       "      <th></th>\n",
       "      <th>일자</th>\n",
       "      <th>요일</th>\n",
       "      <th>시간</th>\n",
       "      <th>영수증번호</th>\n",
       "      <th>상품코드</th>\n",
       "      <th>품목</th>\n",
       "      <th>상품명</th>\n",
       "      <th>수량</th>\n",
       "      <th>가격</th>\n",
       "      <th>결제액</th>\n",
       "      <th>...</th>\n",
       "      <th>카드사</th>\n",
       "      <th>고객ID</th>\n",
       "      <th>방문시간대</th>\n",
       "      <th>Recency</th>\n",
       "      <th>Frequency</th>\n",
       "      <th>Monetary</th>\n",
       "      <th>R</th>\n",
       "      <th>M</th>\n",
       "      <th>F</th>\n",
       "      <th>segmentation</th>\n",
       "    </tr>\n",
       "  </thead>\n",
       "  <tbody>\n",
       "    <tr>\n",
       "      <th>0</th>\n",
       "      <td>2022-01-01</td>\n",
       "      <td>토</td>\n",
       "      <td>NaN</td>\n",
       "      <td>NaN</td>\n",
       "      <td>NaN</td>\n",
       "      <td>NaN</td>\n",
       "      <td>NaN</td>\n",
       "      <td>NaN</td>\n",
       "      <td>NaN</td>\n",
       "      <td>NaN</td>\n",
       "      <td>...</td>\n",
       "      <td>NaN</td>\n",
       "      <td>NaN</td>\n",
       "      <td>NaN</td>\n",
       "      <td>NaN</td>\n",
       "      <td>NaN</td>\n",
       "      <td>NaN</td>\n",
       "      <td>NaN</td>\n",
       "      <td>NaN</td>\n",
       "      <td>NaN</td>\n",
       "      <td>NaN</td>\n",
       "    </tr>\n",
       "    <tr>\n",
       "      <th>1</th>\n",
       "      <td>2022-01-02</td>\n",
       "      <td>일</td>\n",
       "      <td>11:45:31</td>\n",
       "      <td>1.0</td>\n",
       "      <td>10.0</td>\n",
       "      <td>커피</td>\n",
       "      <td>ice 카페라떼</td>\n",
       "      <td>1.0</td>\n",
       "      <td>4000.0</td>\n",
       "      <td>4000.0</td>\n",
       "      <td>...</td>\n",
       "      <td>롯데</td>\n",
       "      <td>8.579258e+10</td>\n",
       "      <td>11</td>\n",
       "      <td>515.0</td>\n",
       "      <td>1.0</td>\n",
       "      <td>4000.0</td>\n",
       "      <td>1</td>\n",
       "      <td>1</td>\n",
       "      <td>1</td>\n",
       "      <td>이탈 고객</td>\n",
       "    </tr>\n",
       "    <tr>\n",
       "      <th>2</th>\n",
       "      <td>2022-01-02</td>\n",
       "      <td>일</td>\n",
       "      <td>11:45:49</td>\n",
       "      <td>2.0</td>\n",
       "      <td>25.0</td>\n",
       "      <td>커피</td>\n",
       "      <td>코클슈페너</td>\n",
       "      <td>1.0</td>\n",
       "      <td>4500.0</td>\n",
       "      <td>4500.0</td>\n",
       "      <td>...</td>\n",
       "      <td>비씨</td>\n",
       "      <td>8.600368e+10</td>\n",
       "      <td>11</td>\n",
       "      <td>515.0</td>\n",
       "      <td>1.0</td>\n",
       "      <td>4500.0</td>\n",
       "      <td>1</td>\n",
       "      <td>1</td>\n",
       "      <td>1</td>\n",
       "      <td>이탈 고객</td>\n",
       "    </tr>\n",
       "    <tr>\n",
       "      <th>3</th>\n",
       "      <td>2022-01-02</td>\n",
       "      <td>일</td>\n",
       "      <td>13:54:42</td>\n",
       "      <td>3.0</td>\n",
       "      <td>2.0</td>\n",
       "      <td>에스프레소</td>\n",
       "      <td>스트라파짜토</td>\n",
       "      <td>2.0</td>\n",
       "      <td>4000.0</td>\n",
       "      <td>4000.0</td>\n",
       "      <td>...</td>\n",
       "      <td>국민</td>\n",
       "      <td>3.151013e+10</td>\n",
       "      <td>13</td>\n",
       "      <td>515.0</td>\n",
       "      <td>1.0</td>\n",
       "      <td>4000.0</td>\n",
       "      <td>1</td>\n",
       "      <td>1</td>\n",
       "      <td>1</td>\n",
       "      <td>이탈 고객</td>\n",
       "    </tr>\n",
       "    <tr>\n",
       "      <th>4</th>\n",
       "      <td>2022-01-02</td>\n",
       "      <td>일</td>\n",
       "      <td>13:55:49</td>\n",
       "      <td>4.0</td>\n",
       "      <td>28.0</td>\n",
       "      <td>커피</td>\n",
       "      <td>ice 바닐라라떼</td>\n",
       "      <td>1.0</td>\n",
       "      <td>4500.0</td>\n",
       "      <td>12000.0</td>\n",
       "      <td>...</td>\n",
       "      <td>현대</td>\n",
       "      <td>2.016200e+09</td>\n",
       "      <td>13</td>\n",
       "      <td>361.0</td>\n",
       "      <td>22.0</td>\n",
       "      <td>257500.0</td>\n",
       "      <td>2</td>\n",
       "      <td>4</td>\n",
       "      <td>4</td>\n",
       "      <td>충성 고객</td>\n",
       "    </tr>\n",
       "  </tbody>\n",
       "</table>\n",
       "<p>5 rows × 22 columns</p>\n",
       "</div>"
      ],
      "text/plain": [
       "          일자 요일        시간  영수증번호  상품코드     품목        상품명   수량      가격  \\\n",
       "0 2022-01-01  토       NaN    NaN   NaN    NaN        NaN  NaN     NaN   \n",
       "1 2022-01-02  일  11:45:31    1.0  10.0     커피   ice 카페라떼  1.0  4000.0   \n",
       "2 2022-01-02  일  11:45:49    2.0  25.0     커피      코클슈페너  1.0  4500.0   \n",
       "3 2022-01-02  일  13:54:42    3.0   2.0  에스프레소     스트라파짜토  2.0  4000.0   \n",
       "4 2022-01-02  일  13:55:49    4.0  28.0     커피  ice 바닐라라떼  1.0  4500.0   \n",
       "\n",
       "       결제액  ...  카드사          고객ID 방문시간대  Recency Frequency  Monetary    R  \\\n",
       "0      NaN  ...  NaN           NaN   NaN      NaN       NaN       NaN  NaN   \n",
       "1   4000.0  ...   롯데  8.579258e+10    11    515.0       1.0    4000.0    1   \n",
       "2   4500.0  ...   비씨  8.600368e+10    11    515.0       1.0    4500.0    1   \n",
       "3   4000.0  ...   국민  3.151013e+10    13    515.0       1.0    4000.0    1   \n",
       "4  12000.0  ...   현대  2.016200e+09    13    361.0      22.0  257500.0    2   \n",
       "\n",
       "     M    F segmentation  \n",
       "0  NaN  NaN          NaN  \n",
       "1    1    1        이탈 고객  \n",
       "2    1    1        이탈 고객  \n",
       "3    1    1        이탈 고객  \n",
       "4    4    4        충성 고객  \n",
       "\n",
       "[5 rows x 22 columns]"
      ]
     },
     "execution_count": 131,
     "metadata": {},
     "output_type": "execute_result"
    }
   ],
   "source": [
    "# df와 rfm 병합\n",
    "# df_final\n",
    "rfm = rfm.reset_index()\n",
    "df_final = pd.merge(df, rfm, how='left', on=('고객ID'))\n",
    "df_final = df_final.drop(columns=['휴일', '강수량'])\n",
    "df_final.head()"
   ]
  },
  {
   "cell_type": "code",
   "execution_count": 132,
   "id": "a0412f5f",
   "metadata": {
    "ExecuteTime": {
     "end_time": "2023-06-22T12:12:09.542429Z",
     "start_time": "2023-06-22T12:12:09.274169Z"
    }
   },
   "outputs": [],
   "source": [
    "# df_final.to_csv('df_rfm_final3.csv')"
   ]
  },
  {
   "cell_type": "markdown",
   "id": "a26018b0",
   "metadata": {},
   "source": [
    "# 추가 분석"
   ]
  },
  {
   "cell_type": "code",
   "execution_count": 140,
   "id": "8569fb9c",
   "metadata": {
    "ExecuteTime": {
     "end_time": "2023-06-22T14:04:31.153183Z",
     "start_time": "2023-06-22T14:04:31.140507Z"
    }
   },
   "outputs": [
    {
     "data": {
      "text/plain": [
       "array([nan, 'ice 카페라떼', '코클슈페너', '스트라파짜토', 'ice 바닐라라떼', '브라운치즈 크로플',\n",
       "       '아인슈페너', 'hot 얼그레이', '콘파냐', '오네로소', '피에노', '샤케라토', 'ice 아메리카노',\n",
       "       'ice 콜드브루', '자몽에이드', 'hot 카페라떼', 'hot 아메리카노', 'hot 바닐라라떼', '시럽추가',\n",
       "       '할인 아메리카노', 'hot 자몽티', 'hot 콜드브루라떼', '레몬에이드', 'hot 콜드브루',\n",
       "       'ice 레몬티', 'hot 레몬티', '에스프레소', 'hot 페퍼민트', 'hot 케모마일', 'ice 자몽티',\n",
       "       'ice 얼그레이', 'ice 콜드브루라떼', 'ice 케모마일', 'ice 페퍼민트', '스콘', '청포도에이드',\n",
       "       '휘낭시에 초코', '대파치즈스콘', '휘낭시에 로투스', '샷추가', '휘낭시에 황치즈', '초코크림라떼',\n",
       "       '아이스티 복숭아', '패션후르츠에이드', 'ice 돌체라떼', 'hot 돌체라떼', '아이스티 레몬', '유자차',\n",
       "       'ice 콜드브루 돌체라떼', 'hot 콜드브루 돌체라떼', 'ice 그린티라떼', '#NAME?'],\n",
       "      dtype=object)"
      ]
     },
     "execution_count": 140,
     "metadata": {},
     "output_type": "execute_result"
    }
   ],
   "source": [
    "# 메뉴명 전처리\n",
    "df_final['상품명'].unique()"
   ]
  },
  {
   "cell_type": "code",
   "execution_count": 141,
   "id": "d33dd37b",
   "metadata": {
    "ExecuteTime": {
     "end_time": "2023-06-22T14:04:50.566189Z",
     "start_time": "2023-06-22T14:04:50.433422Z"
    }
   },
   "outputs": [
    {
     "data": {
      "text/html": [
       "<div>\n",
       "<style scoped>\n",
       "    .dataframe tbody tr th:only-of-type {\n",
       "        vertical-align: middle;\n",
       "    }\n",
       "\n",
       "    .dataframe tbody tr th {\n",
       "        vertical-align: top;\n",
       "    }\n",
       "\n",
       "    .dataframe thead th {\n",
       "        text-align: right;\n",
       "    }\n",
       "</style>\n",
       "<table border=\"1\" class=\"dataframe\">\n",
       "  <thead>\n",
       "    <tr style=\"text-align: right;\">\n",
       "      <th></th>\n",
       "      <th>일자</th>\n",
       "      <th>요일</th>\n",
       "      <th>시간</th>\n",
       "      <th>영수증번호</th>\n",
       "      <th>상품코드</th>\n",
       "      <th>품목</th>\n",
       "      <th>상품명</th>\n",
       "      <th>수량</th>\n",
       "      <th>가격</th>\n",
       "      <th>결제액</th>\n",
       "      <th>...</th>\n",
       "      <th>고객ID</th>\n",
       "      <th>방문시간대</th>\n",
       "      <th>Recency</th>\n",
       "      <th>Frequency</th>\n",
       "      <th>Monetary</th>\n",
       "      <th>R</th>\n",
       "      <th>M</th>\n",
       "      <th>F</th>\n",
       "      <th>segmentation</th>\n",
       "      <th>N_상품명</th>\n",
       "    </tr>\n",
       "  </thead>\n",
       "  <tbody>\n",
       "    <tr>\n",
       "      <th>0</th>\n",
       "      <td>2022-01-01</td>\n",
       "      <td>토</td>\n",
       "      <td>NaN</td>\n",
       "      <td>NaN</td>\n",
       "      <td>NaN</td>\n",
       "      <td>NaN</td>\n",
       "      <td>NaN</td>\n",
       "      <td>NaN</td>\n",
       "      <td>NaN</td>\n",
       "      <td>NaN</td>\n",
       "      <td>...</td>\n",
       "      <td>NaN</td>\n",
       "      <td>NaN</td>\n",
       "      <td>NaN</td>\n",
       "      <td>NaN</td>\n",
       "      <td>NaN</td>\n",
       "      <td>NaN</td>\n",
       "      <td>NaN</td>\n",
       "      <td>NaN</td>\n",
       "      <td>NaN</td>\n",
       "      <td>NaN</td>\n",
       "    </tr>\n",
       "    <tr>\n",
       "      <th>1</th>\n",
       "      <td>2022-01-02</td>\n",
       "      <td>일</td>\n",
       "      <td>11:45:31</td>\n",
       "      <td>1.0</td>\n",
       "      <td>10.0</td>\n",
       "      <td>커피</td>\n",
       "      <td>ice 카페라떼</td>\n",
       "      <td>1.0</td>\n",
       "      <td>4000.0</td>\n",
       "      <td>4000.0</td>\n",
       "      <td>...</td>\n",
       "      <td>8.579258e+10</td>\n",
       "      <td>11</td>\n",
       "      <td>515.0</td>\n",
       "      <td>1.0</td>\n",
       "      <td>4000.0</td>\n",
       "      <td>1</td>\n",
       "      <td>1</td>\n",
       "      <td>1</td>\n",
       "      <td>이탈 고객</td>\n",
       "      <td>카페라떼</td>\n",
       "    </tr>\n",
       "    <tr>\n",
       "      <th>2</th>\n",
       "      <td>2022-01-02</td>\n",
       "      <td>일</td>\n",
       "      <td>11:45:49</td>\n",
       "      <td>2.0</td>\n",
       "      <td>25.0</td>\n",
       "      <td>커피</td>\n",
       "      <td>코클슈페너</td>\n",
       "      <td>1.0</td>\n",
       "      <td>4500.0</td>\n",
       "      <td>4500.0</td>\n",
       "      <td>...</td>\n",
       "      <td>8.600368e+10</td>\n",
       "      <td>11</td>\n",
       "      <td>515.0</td>\n",
       "      <td>1.0</td>\n",
       "      <td>4500.0</td>\n",
       "      <td>1</td>\n",
       "      <td>1</td>\n",
       "      <td>1</td>\n",
       "      <td>이탈 고객</td>\n",
       "      <td>코클슈페너</td>\n",
       "    </tr>\n",
       "  </tbody>\n",
       "</table>\n",
       "<p>3 rows × 23 columns</p>\n",
       "</div>"
      ],
      "text/plain": [
       "          일자 요일        시간  영수증번호  상품코드   품목       상품명   수량      가격     결제액  \\\n",
       "0 2022-01-01  토       NaN    NaN   NaN  NaN       NaN  NaN     NaN     NaN   \n",
       "1 2022-01-02  일  11:45:31    1.0  10.0   커피  ice 카페라떼  1.0  4000.0  4000.0   \n",
       "2 2022-01-02  일  11:45:49    2.0  25.0   커피     코클슈페너  1.0  4500.0  4500.0   \n",
       "\n",
       "   ...          고객ID 방문시간대 Recency  Frequency Monetary    R    M    F  \\\n",
       "0  ...           NaN   NaN     NaN        NaN      NaN  NaN  NaN  NaN   \n",
       "1  ...  8.579258e+10    11   515.0        1.0   4000.0    1    1    1   \n",
       "2  ...  8.600368e+10    11   515.0        1.0   4500.0    1    1    1   \n",
       "\n",
       "  segmentation  N_상품명  \n",
       "0          NaN    NaN  \n",
       "1        이탈 고객   카페라떼  \n",
       "2        이탈 고객  코클슈페너  \n",
       "\n",
       "[3 rows x 23 columns]"
      ]
     },
     "execution_count": 141,
     "metadata": {},
     "output_type": "execute_result"
    }
   ],
   "source": [
    "#후녕님감사합니다\n",
    "#할인아메리카노 -> 아메리카노로 변경\n",
    "#메뉴분석에 필요없는 행 제거 ['시럽추가', '- 연하게', '샷추가']\n",
    "#ice, hot을 제외한 데이터셋을 만들자 (한글 문자만 남기고 앞 뒤 빈칸 제거)\n",
    "\n",
    "df_final.loc[df_final['상품명'] == '할인 아메리카노', '상품명'] = '아메리카노'\n",
    "df_final = df_final[~df_final['상품명'].isin(['시럽추가', '- 연하게', '샷추가'])]\n",
    "df_final['N_상품명'] = df_final['상품명'].str.replace('[^ㄱ-ㅎ가-힣]', '', regex=True).str.strip()\n",
    "\n",
    "df_final.head(3)"
   ]
  },
  {
   "cell_type": "code",
   "execution_count": 145,
   "id": "21f04b71",
   "metadata": {
    "ExecuteTime": {
     "end_time": "2023-06-22T14:07:08.085844Z",
     "start_time": "2023-06-22T14:07:08.059720Z"
    }
   },
   "outputs": [],
   "source": [
    "df_final = df_final.dropna()"
   ]
  },
  {
   "cell_type": "code",
   "execution_count": 146,
   "id": "e9870c5e",
   "metadata": {
    "ExecuteTime": {
     "end_time": "2023-06-22T14:07:13.903314Z",
     "start_time": "2023-06-22T14:07:09.878123Z"
    }
   },
   "outputs": [
    {
     "data": {
      "text/html": [
       "<div>\n",
       "<style scoped>\n",
       "    .dataframe tbody tr th:only-of-type {\n",
       "        vertical-align: middle;\n",
       "    }\n",
       "\n",
       "    .dataframe tbody tr th {\n",
       "        vertical-align: top;\n",
       "    }\n",
       "\n",
       "    .dataframe thead th {\n",
       "        text-align: right;\n",
       "    }\n",
       "</style>\n",
       "<table border=\"1\" class=\"dataframe\">\n",
       "  <thead>\n",
       "    <tr style=\"text-align: right;\">\n",
       "      <th></th>\n",
       "      <th>일자</th>\n",
       "      <th>요일</th>\n",
       "      <th>시간</th>\n",
       "      <th>영수증번호</th>\n",
       "      <th>상품코드</th>\n",
       "      <th>품목</th>\n",
       "      <th>상품명</th>\n",
       "      <th>수량</th>\n",
       "      <th>가격</th>\n",
       "      <th>결제액</th>\n",
       "      <th>...</th>\n",
       "      <th>고객ID</th>\n",
       "      <th>방문시간대</th>\n",
       "      <th>Recency</th>\n",
       "      <th>Frequency</th>\n",
       "      <th>Monetary</th>\n",
       "      <th>R</th>\n",
       "      <th>M</th>\n",
       "      <th>F</th>\n",
       "      <th>segmentation</th>\n",
       "      <th>N_상품명</th>\n",
       "    </tr>\n",
       "  </thead>\n",
       "  <tbody>\n",
       "    <tr>\n",
       "      <th>1</th>\n",
       "      <td>2022-01-02</td>\n",
       "      <td>일</td>\n",
       "      <td>11:45:31</td>\n",
       "      <td>1.0</td>\n",
       "      <td>10.0</td>\n",
       "      <td>커피</td>\n",
       "      <td>ice 카페라떼</td>\n",
       "      <td>1.0</td>\n",
       "      <td>4000.0</td>\n",
       "      <td>4000.0</td>\n",
       "      <td>...</td>\n",
       "      <td>8.579258e+10</td>\n",
       "      <td>11</td>\n",
       "      <td>515.0</td>\n",
       "      <td>1.0</td>\n",
       "      <td>4000.0</td>\n",
       "      <td>1</td>\n",
       "      <td>1</td>\n",
       "      <td>1</td>\n",
       "      <td>이탈 고객</td>\n",
       "      <td>카페라떼</td>\n",
       "    </tr>\n",
       "    <tr>\n",
       "      <th>2</th>\n",
       "      <td>2022-01-02</td>\n",
       "      <td>일</td>\n",
       "      <td>11:45:49</td>\n",
       "      <td>2.0</td>\n",
       "      <td>25.0</td>\n",
       "      <td>커피</td>\n",
       "      <td>코클슈페너</td>\n",
       "      <td>1.0</td>\n",
       "      <td>4500.0</td>\n",
       "      <td>4500.0</td>\n",
       "      <td>...</td>\n",
       "      <td>8.600368e+10</td>\n",
       "      <td>11</td>\n",
       "      <td>515.0</td>\n",
       "      <td>1.0</td>\n",
       "      <td>4500.0</td>\n",
       "      <td>1</td>\n",
       "      <td>1</td>\n",
       "      <td>1</td>\n",
       "      <td>이탈 고객</td>\n",
       "      <td>코클슈페너</td>\n",
       "    </tr>\n",
       "    <tr>\n",
       "      <th>3</th>\n",
       "      <td>2022-01-02</td>\n",
       "      <td>일</td>\n",
       "      <td>13:54:42</td>\n",
       "      <td>3.0</td>\n",
       "      <td>2.0</td>\n",
       "      <td>에스프레소</td>\n",
       "      <td>스트라파짜토</td>\n",
       "      <td>2.0</td>\n",
       "      <td>4000.0</td>\n",
       "      <td>4000.0</td>\n",
       "      <td>...</td>\n",
       "      <td>3.151013e+10</td>\n",
       "      <td>13</td>\n",
       "      <td>515.0</td>\n",
       "      <td>1.0</td>\n",
       "      <td>4000.0</td>\n",
       "      <td>1</td>\n",
       "      <td>1</td>\n",
       "      <td>1</td>\n",
       "      <td>이탈 고객</td>\n",
       "      <td>스트라파짜토</td>\n",
       "    </tr>\n",
       "    <tr>\n",
       "      <th>4</th>\n",
       "      <td>2022-01-02</td>\n",
       "      <td>일</td>\n",
       "      <td>13:55:49</td>\n",
       "      <td>4.0</td>\n",
       "      <td>28.0</td>\n",
       "      <td>커피</td>\n",
       "      <td>ice 바닐라라떼</td>\n",
       "      <td>1.0</td>\n",
       "      <td>4500.0</td>\n",
       "      <td>12000.0</td>\n",
       "      <td>...</td>\n",
       "      <td>2.016200e+09</td>\n",
       "      <td>13</td>\n",
       "      <td>361.0</td>\n",
       "      <td>22.0</td>\n",
       "      <td>257500.0</td>\n",
       "      <td>2</td>\n",
       "      <td>4</td>\n",
       "      <td>4</td>\n",
       "      <td>충성 고객</td>\n",
       "      <td>바닐라라떼</td>\n",
       "    </tr>\n",
       "    <tr>\n",
       "      <th>5</th>\n",
       "      <td>2022-01-02</td>\n",
       "      <td>일</td>\n",
       "      <td>13:55:49</td>\n",
       "      <td>4.0</td>\n",
       "      <td>22.0</td>\n",
       "      <td>디저트</td>\n",
       "      <td>브라운치즈 크로플</td>\n",
       "      <td>1.0</td>\n",
       "      <td>7500.0</td>\n",
       "      <td>12000.0</td>\n",
       "      <td>...</td>\n",
       "      <td>2.016200e+09</td>\n",
       "      <td>13</td>\n",
       "      <td>361.0</td>\n",
       "      <td>22.0</td>\n",
       "      <td>257500.0</td>\n",
       "      <td>2</td>\n",
       "      <td>4</td>\n",
       "      <td>4</td>\n",
       "      <td>충성 고객</td>\n",
       "      <td>브라운치즈크로플</td>\n",
       "    </tr>\n",
       "  </tbody>\n",
       "</table>\n",
       "<p>5 rows × 23 columns</p>\n",
       "</div>"
      ],
      "text/plain": [
       "          일자 요일        시간  영수증번호  상품코드     품목        상품명   수량      가격  \\\n",
       "1 2022-01-02  일  11:45:31    1.0  10.0     커피   ice 카페라떼  1.0  4000.0   \n",
       "2 2022-01-02  일  11:45:49    2.0  25.0     커피      코클슈페너  1.0  4500.0   \n",
       "3 2022-01-02  일  13:54:42    3.0   2.0  에스프레소     스트라파짜토  2.0  4000.0   \n",
       "4 2022-01-02  일  13:55:49    4.0  28.0     커피  ice 바닐라라떼  1.0  4500.0   \n",
       "5 2022-01-02  일  13:55:49    4.0  22.0    디저트  브라운치즈 크로플  1.0  7500.0   \n",
       "\n",
       "       결제액  ...          고객ID 방문시간대 Recency  Frequency  Monetary  R  M  F  \\\n",
       "1   4000.0  ...  8.579258e+10    11   515.0        1.0    4000.0  1  1  1   \n",
       "2   4500.0  ...  8.600368e+10    11   515.0        1.0    4500.0  1  1  1   \n",
       "3   4000.0  ...  3.151013e+10    13   515.0        1.0    4000.0  1  1  1   \n",
       "4  12000.0  ...  2.016200e+09    13   361.0       22.0  257500.0  2  4  4   \n",
       "5  12000.0  ...  2.016200e+09    13   361.0       22.0  257500.0  2  4  4   \n",
       "\n",
       "  segmentation     N_상품명  \n",
       "1        이탈 고객      카페라떼  \n",
       "2        이탈 고객     코클슈페너  \n",
       "3        이탈 고객    스트라파짜토  \n",
       "4        충성 고객     바닐라라떼  \n",
       "5        충성 고객  브라운치즈크로플  \n",
       "\n",
       "[5 rows x 23 columns]"
      ]
     },
     "execution_count": 146,
     "metadata": {},
     "output_type": "execute_result"
    }
   ],
   "source": [
    "메뉴 = {\n",
    "    '디저트': ['크로플', '스콘', '휘낭시에', '대파치즈스콘'],\n",
    "    '에스프레소': ['스트라파짜토', '오네로소', '콘파냐', '피에노', '샤케라토', '에스프레소'],\n",
    "    '논커피': ['얼그레이', '케모마일', '페퍼민트', '레몬티', '자몽티', '유자차', '에이드', '초코크림라떼', '아이스티', '그린티라떼'],\n",
    "    '커피': ['카페라떼', '코클슈페너', '바닐라라떼', '아인슈페너', '아메리카노', '콜드브루', '돌체라떼']\n",
    "}\n",
    "\n",
    "# 상품명의 오른쪽 글자가 메뉴 딕셔너리의 키에 포함되어 있다면 해당 키를 할당\n",
    "for index, row in df_final.iterrows():\n",
    "    for key, value in 메뉴.items():\n",
    "        for item in value:\n",
    "            if item in row['N_상품명']:\n",
    "                df_final.at[index, '품목'] = key\n",
    "                break\n",
    "\n",
    "df_final.head()"
   ]
  },
  {
   "cell_type": "markdown",
   "id": "2acffcf0",
   "metadata": {},
   "source": [
    "## VIP고객과 콜드브루의 관계"
   ]
  },
  {
   "cell_type": "code",
   "execution_count": 147,
   "id": "a962813e",
   "metadata": {
    "ExecuteTime": {
     "end_time": "2023-06-22T14:07:40.938438Z",
     "start_time": "2023-06-22T14:07:40.896601Z"
    }
   },
   "outputs": [
    {
     "data": {
      "text/html": [
       "<div>\n",
       "<style scoped>\n",
       "    .dataframe tbody tr th:only-of-type {\n",
       "        vertical-align: middle;\n",
       "    }\n",
       "\n",
       "    .dataframe tbody tr th {\n",
       "        vertical-align: top;\n",
       "    }\n",
       "\n",
       "    .dataframe thead th {\n",
       "        text-align: right;\n",
       "    }\n",
       "</style>\n",
       "<table border=\"1\" class=\"dataframe\">\n",
       "  <thead>\n",
       "    <tr style=\"text-align: right;\">\n",
       "      <th></th>\n",
       "      <th>수량</th>\n",
       "    </tr>\n",
       "    <tr>\n",
       "      <th>고객ID</th>\n",
       "      <th></th>\n",
       "    </tr>\n",
       "  </thead>\n",
       "  <tbody>\n",
       "    <tr>\n",
       "      <th>9.898913e+10</th>\n",
       "      <td>177.0</td>\n",
       "    </tr>\n",
       "    <tr>\n",
       "      <th>6.663867e+10</th>\n",
       "      <td>36.0</td>\n",
       "    </tr>\n",
       "    <tr>\n",
       "      <th>4.318342e+10</th>\n",
       "      <td>33.0</td>\n",
       "    </tr>\n",
       "    <tr>\n",
       "      <th>2.188713e+10</th>\n",
       "      <td>21.0</td>\n",
       "    </tr>\n",
       "    <tr>\n",
       "      <th>7.036508e+10</th>\n",
       "      <td>17.0</td>\n",
       "    </tr>\n",
       "    <tr>\n",
       "      <th>4.689464e+10</th>\n",
       "      <td>16.0</td>\n",
       "    </tr>\n",
       "    <tr>\n",
       "      <th>3.220309e+09</th>\n",
       "      <td>9.0</td>\n",
       "    </tr>\n",
       "    <tr>\n",
       "      <th>9.586901e+09</th>\n",
       "      <td>9.0</td>\n",
       "    </tr>\n",
       "    <tr>\n",
       "      <th>5.192016e+10</th>\n",
       "      <td>7.0</td>\n",
       "    </tr>\n",
       "    <tr>\n",
       "      <th>7.200227e+10</th>\n",
       "      <td>7.0</td>\n",
       "    </tr>\n",
       "    <tr>\n",
       "      <th>7.603467e+10</th>\n",
       "      <td>5.0</td>\n",
       "    </tr>\n",
       "    <tr>\n",
       "      <th>2.200322e+10</th>\n",
       "      <td>3.0</td>\n",
       "    </tr>\n",
       "    <tr>\n",
       "      <th>7.991497e+10</th>\n",
       "      <td>3.0</td>\n",
       "    </tr>\n",
       "    <tr>\n",
       "      <th>5.817186e+10</th>\n",
       "      <td>2.0</td>\n",
       "    </tr>\n",
       "    <tr>\n",
       "      <th>3.351033e+10</th>\n",
       "      <td>1.0</td>\n",
       "    </tr>\n",
       "    <tr>\n",
       "      <th>3.351034e+10</th>\n",
       "      <td>1.0</td>\n",
       "    </tr>\n",
       "    <tr>\n",
       "      <th>2.036803e+10</th>\n",
       "      <td>1.0</td>\n",
       "    </tr>\n",
       "    <tr>\n",
       "      <th>5.211254e+10</th>\n",
       "      <td>1.0</td>\n",
       "    </tr>\n",
       "    <tr>\n",
       "      <th>1.998917e+10</th>\n",
       "      <td>1.0</td>\n",
       "    </tr>\n",
       "    <tr>\n",
       "      <th>1.510730e+09</th>\n",
       "      <td>1.0</td>\n",
       "    </tr>\n",
       "  </tbody>\n",
       "</table>\n",
       "</div>"
      ],
      "text/plain": [
       "                 수량\n",
       "고객ID               \n",
       "9.898913e+10  177.0\n",
       "6.663867e+10   36.0\n",
       "4.318342e+10   33.0\n",
       "2.188713e+10   21.0\n",
       "7.036508e+10   17.0\n",
       "4.689464e+10   16.0\n",
       "3.220309e+09    9.0\n",
       "9.586901e+09    9.0\n",
       "5.192016e+10    7.0\n",
       "7.200227e+10    7.0\n",
       "7.603467e+10    5.0\n",
       "2.200322e+10    3.0\n",
       "7.991497e+10    3.0\n",
       "5.817186e+10    2.0\n",
       "3.351033e+10    1.0\n",
       "3.351034e+10    1.0\n",
       "2.036803e+10    1.0\n",
       "5.211254e+10    1.0\n",
       "1.998917e+10    1.0\n",
       "1.510730e+09    1.0"
      ]
     },
     "execution_count": 147,
     "metadata": {},
     "output_type": "execute_result"
    }
   ],
   "source": [
    "# 대다수의 vip고객이 콜드브루를 좋아하는가? 혹은 특별하게 많이 구매한 고객이 있는가?\n",
    "# 고객번호 ‘98989130773’의 특수한 취향일 뿐이므로 모든 VIP 고객이 콜드브루를 선호하는 것이라 하긴 어렵다.\n",
    "df_final.loc[(df_final['segmentation'] == 'VIP 고객') & (df_final['N_상품명'] == '콜드브루')].groupby('고객ID').agg({'수량':'sum'}).sort_values(by='수량', ascending=False)"
   ]
  },
  {
   "cell_type": "code",
   "execution_count": 152,
   "id": "74b09815",
   "metadata": {
    "ExecuteTime": {
     "end_time": "2023-06-22T14:10:11.106379Z",
     "start_time": "2023-06-22T14:10:11.059239Z"
    }
   },
   "outputs": [
    {
     "data": {
      "text/html": [
       "<div>\n",
       "<style scoped>\n",
       "    .dataframe tbody tr th:only-of-type {\n",
       "        vertical-align: middle;\n",
       "    }\n",
       "\n",
       "    .dataframe tbody tr th {\n",
       "        vertical-align: top;\n",
       "    }\n",
       "\n",
       "    .dataframe thead tr th {\n",
       "        text-align: left;\n",
       "    }\n",
       "\n",
       "    .dataframe thead tr:last-of-type th {\n",
       "        text-align: right;\n",
       "    }\n",
       "</style>\n",
       "<table border=\"1\" class=\"dataframe\">\n",
       "  <thead>\n",
       "    <tr>\n",
       "      <th></th>\n",
       "      <th colspan=\"2\" halign=\"left\">일자</th>\n",
       "      <th>수량</th>\n",
       "    </tr>\n",
       "    <tr>\n",
       "      <th></th>\n",
       "      <th>min</th>\n",
       "      <th>max</th>\n",
       "      <th>sum</th>\n",
       "    </tr>\n",
       "    <tr>\n",
       "      <th>고객ID</th>\n",
       "      <th></th>\n",
       "      <th></th>\n",
       "      <th></th>\n",
       "    </tr>\n",
       "  </thead>\n",
       "  <tbody>\n",
       "    <tr>\n",
       "      <th>1.510730e+09</th>\n",
       "      <td>2022-04-09</td>\n",
       "      <td>2022-04-09</td>\n",
       "      <td>1.0</td>\n",
       "    </tr>\n",
       "    <tr>\n",
       "      <th>3.220309e+09</th>\n",
       "      <td>2022-08-05</td>\n",
       "      <td>2022-09-27</td>\n",
       "      <td>9.0</td>\n",
       "    </tr>\n",
       "    <tr>\n",
       "      <th>9.586901e+09</th>\n",
       "      <td>2022-09-21</td>\n",
       "      <td>2023-04-27</td>\n",
       "      <td>9.0</td>\n",
       "    </tr>\n",
       "    <tr>\n",
       "      <th>1.998917e+10</th>\n",
       "      <td>2023-04-13</td>\n",
       "      <td>2023-04-13</td>\n",
       "      <td>1.0</td>\n",
       "    </tr>\n",
       "    <tr>\n",
       "      <th>2.036803e+10</th>\n",
       "      <td>2022-09-24</td>\n",
       "      <td>2022-09-24</td>\n",
       "      <td>1.0</td>\n",
       "    </tr>\n",
       "    <tr>\n",
       "      <th>2.188713e+10</th>\n",
       "      <td>2022-05-11</td>\n",
       "      <td>2023-02-23</td>\n",
       "      <td>21.0</td>\n",
       "    </tr>\n",
       "    <tr>\n",
       "      <th>2.200322e+10</th>\n",
       "      <td>2023-03-04</td>\n",
       "      <td>2023-05-02</td>\n",
       "      <td>3.0</td>\n",
       "    </tr>\n",
       "    <tr>\n",
       "      <th>3.351033e+10</th>\n",
       "      <td>2023-05-02</td>\n",
       "      <td>2023-05-02</td>\n",
       "      <td>1.0</td>\n",
       "    </tr>\n",
       "    <tr>\n",
       "      <th>3.351034e+10</th>\n",
       "      <td>2022-09-27</td>\n",
       "      <td>2022-09-27</td>\n",
       "      <td>1.0</td>\n",
       "    </tr>\n",
       "    <tr>\n",
       "      <th>4.318342e+10</th>\n",
       "      <td>2023-01-03</td>\n",
       "      <td>2023-04-21</td>\n",
       "      <td>33.0</td>\n",
       "    </tr>\n",
       "    <tr>\n",
       "      <th>4.689464e+10</th>\n",
       "      <td>2022-03-11</td>\n",
       "      <td>2023-04-26</td>\n",
       "      <td>16.0</td>\n",
       "    </tr>\n",
       "    <tr>\n",
       "      <th>5.192016e+10</th>\n",
       "      <td>2022-04-02</td>\n",
       "      <td>2022-09-18</td>\n",
       "      <td>7.0</td>\n",
       "    </tr>\n",
       "    <tr>\n",
       "      <th>5.211254e+10</th>\n",
       "      <td>2022-02-12</td>\n",
       "      <td>2022-02-12</td>\n",
       "      <td>1.0</td>\n",
       "    </tr>\n",
       "    <tr>\n",
       "      <th>5.817186e+10</th>\n",
       "      <td>2022-08-09</td>\n",
       "      <td>2022-08-17</td>\n",
       "      <td>2.0</td>\n",
       "    </tr>\n",
       "    <tr>\n",
       "      <th>6.663867e+10</th>\n",
       "      <td>2022-02-09</td>\n",
       "      <td>2023-03-24</td>\n",
       "      <td>36.0</td>\n",
       "    </tr>\n",
       "    <tr>\n",
       "      <th>7.036508e+10</th>\n",
       "      <td>2022-11-04</td>\n",
       "      <td>2023-05-04</td>\n",
       "      <td>17.0</td>\n",
       "    </tr>\n",
       "    <tr>\n",
       "      <th>7.200227e+10</th>\n",
       "      <td>2022-10-05</td>\n",
       "      <td>2023-05-03</td>\n",
       "      <td>7.0</td>\n",
       "    </tr>\n",
       "    <tr>\n",
       "      <th>7.603467e+10</th>\n",
       "      <td>2023-02-02</td>\n",
       "      <td>2023-05-02</td>\n",
       "      <td>5.0</td>\n",
       "    </tr>\n",
       "    <tr>\n",
       "      <th>7.991497e+10</th>\n",
       "      <td>2022-02-18</td>\n",
       "      <td>2023-05-05</td>\n",
       "      <td>3.0</td>\n",
       "    </tr>\n",
       "    <tr>\n",
       "      <th>9.898913e+10</th>\n",
       "      <td>2022-01-04</td>\n",
       "      <td>2023-03-09</td>\n",
       "      <td>177.0</td>\n",
       "    </tr>\n",
       "  </tbody>\n",
       "</table>\n",
       "</div>"
      ],
      "text/plain": [
       "                     일자                수량\n",
       "                    min        max    sum\n",
       "고객ID                                     \n",
       "1.510730e+09 2022-04-09 2022-04-09    1.0\n",
       "3.220309e+09 2022-08-05 2022-09-27    9.0\n",
       "9.586901e+09 2022-09-21 2023-04-27    9.0\n",
       "1.998917e+10 2023-04-13 2023-04-13    1.0\n",
       "2.036803e+10 2022-09-24 2022-09-24    1.0\n",
       "2.188713e+10 2022-05-11 2023-02-23   21.0\n",
       "2.200322e+10 2023-03-04 2023-05-02    3.0\n",
       "3.351033e+10 2023-05-02 2023-05-02    1.0\n",
       "3.351034e+10 2022-09-27 2022-09-27    1.0\n",
       "4.318342e+10 2023-01-03 2023-04-21   33.0\n",
       "4.689464e+10 2022-03-11 2023-04-26   16.0\n",
       "5.192016e+10 2022-04-02 2022-09-18    7.0\n",
       "5.211254e+10 2022-02-12 2022-02-12    1.0\n",
       "5.817186e+10 2022-08-09 2022-08-17    2.0\n",
       "6.663867e+10 2022-02-09 2023-03-24   36.0\n",
       "7.036508e+10 2022-11-04 2023-05-04   17.0\n",
       "7.200227e+10 2022-10-05 2023-05-03    7.0\n",
       "7.603467e+10 2023-02-02 2023-05-02    5.0\n",
       "7.991497e+10 2022-02-18 2023-05-05    3.0\n",
       "9.898913e+10 2022-01-04 2023-03-09  177.0"
      ]
     },
     "execution_count": 152,
     "metadata": {},
     "output_type": "execute_result"
    }
   ],
   "source": [
    "df_vip_coldbrew = df_final.loc[(df_final['segmentation'] == 'VIP 고객') & (df_final['N_상품명'] == '콜드브루')].groupby('고객ID').agg({'일자':['min', 'max'], '수량':'sum'})\n",
    "df_vip_coldbrew"
   ]
  },
  {
   "cell_type": "code",
   "execution_count": 158,
   "id": "2d7075ef",
   "metadata": {
    "ExecuteTime": {
     "end_time": "2023-06-22T14:14:27.085680Z",
     "start_time": "2023-06-22T14:14:27.046550Z"
    }
   },
   "outputs": [
    {
     "data": {
      "text/html": [
       "<div>\n",
       "<style scoped>\n",
       "    .dataframe tbody tr th:only-of-type {\n",
       "        vertical-align: middle;\n",
       "    }\n",
       "\n",
       "    .dataframe tbody tr th {\n",
       "        vertical-align: top;\n",
       "    }\n",
       "\n",
       "    .dataframe thead tr th {\n",
       "        text-align: left;\n",
       "    }\n",
       "</style>\n",
       "<table border=\"1\" class=\"dataframe\">\n",
       "  <thead>\n",
       "    <tr>\n",
       "      <th></th>\n",
       "      <th>고객ID</th>\n",
       "      <th colspan=\"2\" halign=\"left\">일자</th>\n",
       "      <th>수량</th>\n",
       "    </tr>\n",
       "    <tr>\n",
       "      <th></th>\n",
       "      <th></th>\n",
       "      <th>min</th>\n",
       "      <th>max</th>\n",
       "      <th>sum</th>\n",
       "    </tr>\n",
       "  </thead>\n",
       "  <tbody>\n",
       "    <tr>\n",
       "      <th>0</th>\n",
       "      <td>1.510730e+09</td>\n",
       "      <td>2022-04-09</td>\n",
       "      <td>2022-04-09</td>\n",
       "      <td>1.0</td>\n",
       "    </tr>\n",
       "    <tr>\n",
       "      <th>1</th>\n",
       "      <td>3.220309e+09</td>\n",
       "      <td>2022-08-05</td>\n",
       "      <td>2022-09-27</td>\n",
       "      <td>9.0</td>\n",
       "    </tr>\n",
       "    <tr>\n",
       "      <th>2</th>\n",
       "      <td>9.586901e+09</td>\n",
       "      <td>2022-09-21</td>\n",
       "      <td>2023-04-27</td>\n",
       "      <td>9.0</td>\n",
       "    </tr>\n",
       "    <tr>\n",
       "      <th>3</th>\n",
       "      <td>1.998917e+10</td>\n",
       "      <td>2023-04-13</td>\n",
       "      <td>2023-04-13</td>\n",
       "      <td>1.0</td>\n",
       "    </tr>\n",
       "    <tr>\n",
       "      <th>4</th>\n",
       "      <td>2.036803e+10</td>\n",
       "      <td>2022-09-24</td>\n",
       "      <td>2022-09-24</td>\n",
       "      <td>1.0</td>\n",
       "    </tr>\n",
       "    <tr>\n",
       "      <th>5</th>\n",
       "      <td>2.188713e+10</td>\n",
       "      <td>2022-05-11</td>\n",
       "      <td>2023-02-23</td>\n",
       "      <td>21.0</td>\n",
       "    </tr>\n",
       "    <tr>\n",
       "      <th>6</th>\n",
       "      <td>2.200322e+10</td>\n",
       "      <td>2023-03-04</td>\n",
       "      <td>2023-05-02</td>\n",
       "      <td>3.0</td>\n",
       "    </tr>\n",
       "    <tr>\n",
       "      <th>7</th>\n",
       "      <td>3.351033e+10</td>\n",
       "      <td>2023-05-02</td>\n",
       "      <td>2023-05-02</td>\n",
       "      <td>1.0</td>\n",
       "    </tr>\n",
       "    <tr>\n",
       "      <th>8</th>\n",
       "      <td>3.351034e+10</td>\n",
       "      <td>2022-09-27</td>\n",
       "      <td>2022-09-27</td>\n",
       "      <td>1.0</td>\n",
       "    </tr>\n",
       "    <tr>\n",
       "      <th>9</th>\n",
       "      <td>4.318342e+10</td>\n",
       "      <td>2023-01-03</td>\n",
       "      <td>2023-04-21</td>\n",
       "      <td>33.0</td>\n",
       "    </tr>\n",
       "    <tr>\n",
       "      <th>10</th>\n",
       "      <td>4.689464e+10</td>\n",
       "      <td>2022-03-11</td>\n",
       "      <td>2023-04-26</td>\n",
       "      <td>16.0</td>\n",
       "    </tr>\n",
       "    <tr>\n",
       "      <th>11</th>\n",
       "      <td>5.192016e+10</td>\n",
       "      <td>2022-04-02</td>\n",
       "      <td>2022-09-18</td>\n",
       "      <td>7.0</td>\n",
       "    </tr>\n",
       "    <tr>\n",
       "      <th>12</th>\n",
       "      <td>5.211254e+10</td>\n",
       "      <td>2022-02-12</td>\n",
       "      <td>2022-02-12</td>\n",
       "      <td>1.0</td>\n",
       "    </tr>\n",
       "    <tr>\n",
       "      <th>13</th>\n",
       "      <td>5.817186e+10</td>\n",
       "      <td>2022-08-09</td>\n",
       "      <td>2022-08-17</td>\n",
       "      <td>2.0</td>\n",
       "    </tr>\n",
       "    <tr>\n",
       "      <th>14</th>\n",
       "      <td>6.663867e+10</td>\n",
       "      <td>2022-02-09</td>\n",
       "      <td>2023-03-24</td>\n",
       "      <td>36.0</td>\n",
       "    </tr>\n",
       "    <tr>\n",
       "      <th>15</th>\n",
       "      <td>7.036508e+10</td>\n",
       "      <td>2022-11-04</td>\n",
       "      <td>2023-05-04</td>\n",
       "      <td>17.0</td>\n",
       "    </tr>\n",
       "    <tr>\n",
       "      <th>16</th>\n",
       "      <td>7.200227e+10</td>\n",
       "      <td>2022-10-05</td>\n",
       "      <td>2023-05-03</td>\n",
       "      <td>7.0</td>\n",
       "    </tr>\n",
       "    <tr>\n",
       "      <th>17</th>\n",
       "      <td>7.603467e+10</td>\n",
       "      <td>2023-02-02</td>\n",
       "      <td>2023-05-02</td>\n",
       "      <td>5.0</td>\n",
       "    </tr>\n",
       "    <tr>\n",
       "      <th>18</th>\n",
       "      <td>7.991497e+10</td>\n",
       "      <td>2022-02-18</td>\n",
       "      <td>2023-05-05</td>\n",
       "      <td>3.0</td>\n",
       "    </tr>\n",
       "    <tr>\n",
       "      <th>19</th>\n",
       "      <td>9.898913e+10</td>\n",
       "      <td>2022-01-04</td>\n",
       "      <td>2023-03-09</td>\n",
       "      <td>177.0</td>\n",
       "    </tr>\n",
       "  </tbody>\n",
       "</table>\n",
       "</div>"
      ],
      "text/plain": [
       "            고객ID         일자                수량\n",
       "                        min        max    sum\n",
       "0   1.510730e+09 2022-04-09 2022-04-09    1.0\n",
       "1   3.220309e+09 2022-08-05 2022-09-27    9.0\n",
       "2   9.586901e+09 2022-09-21 2023-04-27    9.0\n",
       "3   1.998917e+10 2023-04-13 2023-04-13    1.0\n",
       "4   2.036803e+10 2022-09-24 2022-09-24    1.0\n",
       "5   2.188713e+10 2022-05-11 2023-02-23   21.0\n",
       "6   2.200322e+10 2023-03-04 2023-05-02    3.0\n",
       "7   3.351033e+10 2023-05-02 2023-05-02    1.0\n",
       "8   3.351034e+10 2022-09-27 2022-09-27    1.0\n",
       "9   4.318342e+10 2023-01-03 2023-04-21   33.0\n",
       "10  4.689464e+10 2022-03-11 2023-04-26   16.0\n",
       "11  5.192016e+10 2022-04-02 2022-09-18    7.0\n",
       "12  5.211254e+10 2022-02-12 2022-02-12    1.0\n",
       "13  5.817186e+10 2022-08-09 2022-08-17    2.0\n",
       "14  6.663867e+10 2022-02-09 2023-03-24   36.0\n",
       "15  7.036508e+10 2022-11-04 2023-05-04   17.0\n",
       "16  7.200227e+10 2022-10-05 2023-05-03    7.0\n",
       "17  7.603467e+10 2023-02-02 2023-05-02    5.0\n",
       "18  7.991497e+10 2022-02-18 2023-05-05    3.0\n",
       "19  9.898913e+10 2022-01-04 2023-03-09  177.0"
      ]
     },
     "execution_count": 158,
     "metadata": {},
     "output_type": "execute_result"
    }
   ],
   "source": [
    "df_vcb = df_vip_coldbrew.reset_index()\n",
    "df_vcb"
   ]
  },
  {
   "cell_type": "code",
   "execution_count": 161,
   "id": "72000bcf",
   "metadata": {
    "ExecuteTime": {
     "end_time": "2023-06-22T14:15:50.086967Z",
     "start_time": "2023-06-22T14:15:50.036120Z"
    }
   },
   "outputs": [
    {
     "data": {
      "text/html": [
       "<div>\n",
       "<style scoped>\n",
       "    .dataframe tbody tr th:only-of-type {\n",
       "        vertical-align: middle;\n",
       "    }\n",
       "\n",
       "    .dataframe tbody tr th {\n",
       "        vertical-align: top;\n",
       "    }\n",
       "\n",
       "    .dataframe thead tr th {\n",
       "        text-align: left;\n",
       "    }\n",
       "</style>\n",
       "<table border=\"1\" class=\"dataframe\">\n",
       "  <thead>\n",
       "    <tr>\n",
       "      <th></th>\n",
       "      <th>고객ID</th>\n",
       "      <th colspan=\"2\" halign=\"left\">일자</th>\n",
       "      <th>수량</th>\n",
       "      <th>기간</th>\n",
       "    </tr>\n",
       "    <tr>\n",
       "      <th></th>\n",
       "      <th></th>\n",
       "      <th>min</th>\n",
       "      <th>max</th>\n",
       "      <th>sum</th>\n",
       "      <th></th>\n",
       "    </tr>\n",
       "  </thead>\n",
       "  <tbody>\n",
       "    <tr>\n",
       "      <th>0</th>\n",
       "      <td>1.510730e+09</td>\n",
       "      <td>2022-04-09</td>\n",
       "      <td>2022-04-09</td>\n",
       "      <td>1.0</td>\n",
       "      <td>0 days 00:00:00</td>\n",
       "    </tr>\n",
       "    <tr>\n",
       "      <th>1</th>\n",
       "      <td>3.220309e+09</td>\n",
       "      <td>2022-08-05</td>\n",
       "      <td>2022-09-27</td>\n",
       "      <td>9.0</td>\n",
       "      <td>53 days 00:00:00</td>\n",
       "    </tr>\n",
       "    <tr>\n",
       "      <th>2</th>\n",
       "      <td>9.586901e+09</td>\n",
       "      <td>2022-09-21</td>\n",
       "      <td>2023-04-27</td>\n",
       "      <td>9.0</td>\n",
       "      <td>218 days 00:00:00</td>\n",
       "    </tr>\n",
       "    <tr>\n",
       "      <th>3</th>\n",
       "      <td>1.998917e+10</td>\n",
       "      <td>2023-04-13</td>\n",
       "      <td>2023-04-13</td>\n",
       "      <td>1.0</td>\n",
       "      <td>0 days 00:00:00</td>\n",
       "    </tr>\n",
       "    <tr>\n",
       "      <th>4</th>\n",
       "      <td>2.036803e+10</td>\n",
       "      <td>2022-09-24</td>\n",
       "      <td>2022-09-24</td>\n",
       "      <td>1.0</td>\n",
       "      <td>0 days 00:00:00</td>\n",
       "    </tr>\n",
       "    <tr>\n",
       "      <th>5</th>\n",
       "      <td>2.188713e+10</td>\n",
       "      <td>2022-05-11</td>\n",
       "      <td>2023-02-23</td>\n",
       "      <td>21.0</td>\n",
       "      <td>288 days 00:00:00</td>\n",
       "    </tr>\n",
       "    <tr>\n",
       "      <th>6</th>\n",
       "      <td>2.200322e+10</td>\n",
       "      <td>2023-03-04</td>\n",
       "      <td>2023-05-02</td>\n",
       "      <td>3.0</td>\n",
       "      <td>59 days 00:00:00</td>\n",
       "    </tr>\n",
       "    <tr>\n",
       "      <th>7</th>\n",
       "      <td>3.351033e+10</td>\n",
       "      <td>2023-05-02</td>\n",
       "      <td>2023-05-02</td>\n",
       "      <td>1.0</td>\n",
       "      <td>0 days 00:00:00</td>\n",
       "    </tr>\n",
       "    <tr>\n",
       "      <th>8</th>\n",
       "      <td>3.351034e+10</td>\n",
       "      <td>2022-09-27</td>\n",
       "      <td>2022-09-27</td>\n",
       "      <td>1.0</td>\n",
       "      <td>0 days 00:00:00</td>\n",
       "    </tr>\n",
       "    <tr>\n",
       "      <th>9</th>\n",
       "      <td>4.318342e+10</td>\n",
       "      <td>2023-01-03</td>\n",
       "      <td>2023-04-21</td>\n",
       "      <td>33.0</td>\n",
       "      <td>108 days 00:00:00</td>\n",
       "    </tr>\n",
       "    <tr>\n",
       "      <th>10</th>\n",
       "      <td>4.689464e+10</td>\n",
       "      <td>2022-03-11</td>\n",
       "      <td>2023-04-26</td>\n",
       "      <td>16.0</td>\n",
       "      <td>411 days 00:00:00</td>\n",
       "    </tr>\n",
       "    <tr>\n",
       "      <th>11</th>\n",
       "      <td>5.192016e+10</td>\n",
       "      <td>2022-04-02</td>\n",
       "      <td>2022-09-18</td>\n",
       "      <td>7.0</td>\n",
       "      <td>169 days 00:00:00</td>\n",
       "    </tr>\n",
       "    <tr>\n",
       "      <th>12</th>\n",
       "      <td>5.211254e+10</td>\n",
       "      <td>2022-02-12</td>\n",
       "      <td>2022-02-12</td>\n",
       "      <td>1.0</td>\n",
       "      <td>0 days 00:00:00</td>\n",
       "    </tr>\n",
       "    <tr>\n",
       "      <th>13</th>\n",
       "      <td>5.817186e+10</td>\n",
       "      <td>2022-08-09</td>\n",
       "      <td>2022-08-17</td>\n",
       "      <td>2.0</td>\n",
       "      <td>8 days 00:00:00</td>\n",
       "    </tr>\n",
       "    <tr>\n",
       "      <th>14</th>\n",
       "      <td>6.663867e+10</td>\n",
       "      <td>2022-02-09</td>\n",
       "      <td>2023-03-24</td>\n",
       "      <td>36.0</td>\n",
       "      <td>408 days 00:00:00</td>\n",
       "    </tr>\n",
       "    <tr>\n",
       "      <th>15</th>\n",
       "      <td>7.036508e+10</td>\n",
       "      <td>2022-11-04</td>\n",
       "      <td>2023-05-04</td>\n",
       "      <td>17.0</td>\n",
       "      <td>181 days 00:00:00</td>\n",
       "    </tr>\n",
       "    <tr>\n",
       "      <th>16</th>\n",
       "      <td>7.200227e+10</td>\n",
       "      <td>2022-10-05</td>\n",
       "      <td>2023-05-03</td>\n",
       "      <td>7.0</td>\n",
       "      <td>210 days 00:00:00</td>\n",
       "    </tr>\n",
       "    <tr>\n",
       "      <th>17</th>\n",
       "      <td>7.603467e+10</td>\n",
       "      <td>2023-02-02</td>\n",
       "      <td>2023-05-02</td>\n",
       "      <td>5.0</td>\n",
       "      <td>89 days 00:00:00</td>\n",
       "    </tr>\n",
       "    <tr>\n",
       "      <th>18</th>\n",
       "      <td>7.991497e+10</td>\n",
       "      <td>2022-02-18</td>\n",
       "      <td>2023-05-05</td>\n",
       "      <td>3.0</td>\n",
       "      <td>441 days 00:00:00</td>\n",
       "    </tr>\n",
       "    <tr>\n",
       "      <th>19</th>\n",
       "      <td>9.898913e+10</td>\n",
       "      <td>2022-01-04</td>\n",
       "      <td>2023-03-09</td>\n",
       "      <td>177.0</td>\n",
       "      <td>429 days 00:00:00</td>\n",
       "    </tr>\n",
       "  </tbody>\n",
       "</table>\n",
       "</div>"
      ],
      "text/plain": [
       "            고객ID         일자                수량                 기간\n",
       "                        min        max    sum                   \n",
       "0   1.510730e+09 2022-04-09 2022-04-09    1.0    0 days 00:00:00\n",
       "1   3.220309e+09 2022-08-05 2022-09-27    9.0   53 days 00:00:00\n",
       "2   9.586901e+09 2022-09-21 2023-04-27    9.0  218 days 00:00:00\n",
       "3   1.998917e+10 2023-04-13 2023-04-13    1.0    0 days 00:00:00\n",
       "4   2.036803e+10 2022-09-24 2022-09-24    1.0    0 days 00:00:00\n",
       "5   2.188713e+10 2022-05-11 2023-02-23   21.0  288 days 00:00:00\n",
       "6   2.200322e+10 2023-03-04 2023-05-02    3.0   59 days 00:00:00\n",
       "7   3.351033e+10 2023-05-02 2023-05-02    1.0    0 days 00:00:00\n",
       "8   3.351034e+10 2022-09-27 2022-09-27    1.0    0 days 00:00:00\n",
       "9   4.318342e+10 2023-01-03 2023-04-21   33.0  108 days 00:00:00\n",
       "10  4.689464e+10 2022-03-11 2023-04-26   16.0  411 days 00:00:00\n",
       "11  5.192016e+10 2022-04-02 2022-09-18    7.0  169 days 00:00:00\n",
       "12  5.211254e+10 2022-02-12 2022-02-12    1.0    0 days 00:00:00\n",
       "13  5.817186e+10 2022-08-09 2022-08-17    2.0    8 days 00:00:00\n",
       "14  6.663867e+10 2022-02-09 2023-03-24   36.0  408 days 00:00:00\n",
       "15  7.036508e+10 2022-11-04 2023-05-04   17.0  181 days 00:00:00\n",
       "16  7.200227e+10 2022-10-05 2023-05-03    7.0  210 days 00:00:00\n",
       "17  7.603467e+10 2023-02-02 2023-05-02    5.0   89 days 00:00:00\n",
       "18  7.991497e+10 2022-02-18 2023-05-05    3.0  441 days 00:00:00\n",
       "19  9.898913e+10 2022-01-04 2023-03-09  177.0  429 days 00:00:00"
      ]
     },
     "execution_count": 161,
     "metadata": {},
     "output_type": "execute_result"
    }
   ],
   "source": [
    "# VIP고객 중 콜드브루 첫 주문과 마지막 주문 사이 기간 구하기\n",
    "\n",
    "df_vcb['기간'] = 0\n",
    "for i in range(len(df_vcb)):\n",
    "    df_vcb.iloc[i, 4] = df_vcb.iloc[i, 2] - df_vcb.iloc[i, 1]\n",
    "\n",
    "df_vcb"
   ]
  },
  {
   "cell_type": "code",
   "execution_count": 179,
   "id": "91f6c601",
   "metadata": {
    "ExecuteTime": {
     "end_time": "2023-06-22T14:33:48.139717Z",
     "start_time": "2023-06-22T14:33:48.126447Z"
    }
   },
   "outputs": [],
   "source": [
    "# 이상치 제거\n",
    "df_vcb = df_vcb.iloc[:-1]"
   ]
  },
  {
   "cell_type": "code",
   "execution_count": 180,
   "id": "1a2efd39",
   "metadata": {
    "ExecuteTime": {
     "end_time": "2023-06-22T14:33:51.052674Z",
     "start_time": "2023-06-22T14:33:51.045425Z"
    }
   },
   "outputs": [
    {
     "name": "stdout",
     "output_type": "stream",
     "text": [
      "139 days 02:31:34.736842106\n"
     ]
    }
   ],
   "source": [
    "from datetime import timedelta\n",
    "\n",
    "# Timedelta 데이터의 평균 계산\n",
    "average_delta = sum(df_vcb['기간'], timedelta()) / len(df_vcb['기간'])\n",
    "\n",
    "# 결과 출력\n",
    "print(average_delta)"
   ]
  },
  {
   "cell_type": "markdown",
   "id": "d80694f2",
   "metadata": {},
   "source": [
    "## 이탈고객, 이탈우려고객과 에스프레소류"
   ]
  },
  {
   "cell_type": "code",
   "execution_count": 191,
   "id": "9a7111c7",
   "metadata": {
    "ExecuteTime": {
     "end_time": "2023-06-22T15:27:07.049185Z",
     "start_time": "2023-06-22T15:27:07.037538Z"
    }
   },
   "outputs": [
    {
     "data": {
      "text/plain": [
       "Index(['일자', '요일', '시간', '영수증번호', '상품코드', '품목', '상품명', '수량', '가격', '결제액',\n",
       "       '거래수단', '카드번호', '카드사', '고객ID', '방문시간대', 'Recency', 'Frequency',\n",
       "       'Monetary', 'R', 'M', 'F', 'segmentation', 'N_상품명'],\n",
       "      dtype='object')"
      ]
     },
     "execution_count": 191,
     "metadata": {},
     "output_type": "execute_result"
    }
   ],
   "source": [
    "df_final.columns"
   ]
  },
  {
   "cell_type": "code",
   "execution_count": 194,
   "id": "8a926a6e",
   "metadata": {
    "ExecuteTime": {
     "end_time": "2023-06-22T15:28:05.718883Z",
     "start_time": "2023-06-22T15:28:05.682204Z"
    }
   },
   "outputs": [
    {
     "data": {
      "text/html": [
       "<div>\n",
       "<style scoped>\n",
       "    .dataframe tbody tr th:only-of-type {\n",
       "        vertical-align: middle;\n",
       "    }\n",
       "\n",
       "    .dataframe tbody tr th {\n",
       "        vertical-align: top;\n",
       "    }\n",
       "\n",
       "    .dataframe thead th {\n",
       "        text-align: right;\n",
       "    }\n",
       "</style>\n",
       "<table border=\"1\" class=\"dataframe\">\n",
       "  <thead>\n",
       "    <tr style=\"text-align: right;\">\n",
       "      <th></th>\n",
       "      <th>일자</th>\n",
       "    </tr>\n",
       "    <tr>\n",
       "      <th>고객ID</th>\n",
       "      <th></th>\n",
       "    </tr>\n",
       "  </thead>\n",
       "  <tbody>\n",
       "    <tr>\n",
       "      <th>4.200034e+07</th>\n",
       "      <td>1</td>\n",
       "    </tr>\n",
       "    <tr>\n",
       "      <th>2.612206e+09</th>\n",
       "      <td>1</td>\n",
       "    </tr>\n",
       "    <tr>\n",
       "      <th>3.042303e+09</th>\n",
       "      <td>1</td>\n",
       "    </tr>\n",
       "    <tr>\n",
       "      <th>3.042307e+09</th>\n",
       "      <td>1</td>\n",
       "    </tr>\n",
       "    <tr>\n",
       "      <th>3.309304e+09</th>\n",
       "      <td>1</td>\n",
       "    </tr>\n",
       "    <tr>\n",
       "      <th>...</th>\n",
       "      <td>...</td>\n",
       "    </tr>\n",
       "    <tr>\n",
       "      <th>9.233329e+10</th>\n",
       "      <td>1</td>\n",
       "    </tr>\n",
       "    <tr>\n",
       "      <th>9.297291e+10</th>\n",
       "      <td>1</td>\n",
       "    </tr>\n",
       "    <tr>\n",
       "      <th>9.415550e+10</th>\n",
       "      <td>1</td>\n",
       "    </tr>\n",
       "    <tr>\n",
       "      <th>9.604570e+10</th>\n",
       "      <td>1</td>\n",
       "    </tr>\n",
       "    <tr>\n",
       "      <th>9.814890e+10</th>\n",
       "      <td>1</td>\n",
       "    </tr>\n",
       "  </tbody>\n",
       "</table>\n",
       "<p>82 rows × 1 columns</p>\n",
       "</div>"
      ],
      "text/plain": [
       "              일자\n",
       "고객ID            \n",
       "4.200034e+07   1\n",
       "2.612206e+09   1\n",
       "3.042303e+09   1\n",
       "3.042307e+09   1\n",
       "3.309304e+09   1\n",
       "...           ..\n",
       "9.233329e+10   1\n",
       "9.297291e+10   1\n",
       "9.415550e+10   1\n",
       "9.604570e+10   1\n",
       "9.814890e+10   1\n",
       "\n",
       "[82 rows x 1 columns]"
      ]
     },
     "execution_count": 194,
     "metadata": {},
     "output_type": "execute_result"
    }
   ],
   "source": [
    "# 이탈고객의 경우 모두 에스프레소류를 딱 한번 마시고 다시 방문하지 않았음\n",
    "df_final.loc[(df_final['segmentation']=='이탈 고객') & (df_final['품목'] == '에스프레소')].groupby('고객ID').agg({'일자':'nunique'})"
   ]
  },
  {
   "cell_type": "code",
   "execution_count": 195,
   "id": "cedd628d",
   "metadata": {
    "ExecuteTime": {
     "end_time": "2023-06-22T15:29:23.256321Z",
     "start_time": "2023-06-22T15:29:23.225382Z"
    }
   },
   "outputs": [
    {
     "data": {
      "text/plain": [
       "일자\n",
       "1     82\n",
       "Name: count, dtype: int64"
      ]
     },
     "execution_count": 195,
     "metadata": {},
     "output_type": "execute_result"
    }
   ],
   "source": [
    "df_final.loc[(df_final['segmentation']=='이탈 고객') & (df_final['품목'] == '에스프레소')].groupby('고객ID').agg({'일자':'nunique'}).value_counts()"
   ]
  },
  {
   "cell_type": "markdown",
   "id": "50ff94f4",
   "metadata": {},
   "source": [
    "## 이탈고객과 자몽에이드"
   ]
  },
  {
   "cell_type": "code",
   "execution_count": 202,
   "id": "89a7efe7",
   "metadata": {
    "ExecuteTime": {
     "end_time": "2023-06-22T15:51:05.801470Z",
     "start_time": "2023-06-22T15:51:05.778843Z"
    }
   },
   "outputs": [
    {
     "data": {
      "text/plain": [
       "일자\n",
       "1     372\n",
       "2       2\n",
       "5       1\n",
       "12      1\n",
       "Name: count, dtype: int64"
      ]
     },
     "execution_count": 202,
     "metadata": {},
     "output_type": "execute_result"
    }
   ],
   "source": [
    "df_final.loc[(df_final['segmentation']=='이탈 고객') | (df_final['segmentation']=='충성 고객') & (df_final['N_상품명'] == '자몽에이드')].groupby('고객ID').agg({'일자':'nunique'}).value_counts()"
   ]
  },
  {
   "cell_type": "code",
   "execution_count": null,
   "id": "5e05260f",
   "metadata": {},
   "outputs": [],
   "source": []
  }
 ],
 "metadata": {
  "kernelspec": {
   "display_name": "Python 3 (ipykernel)",
   "language": "python",
   "name": "python3"
  },
  "language_info": {
   "codemirror_mode": {
    "name": "ipython",
    "version": 3
   },
   "file_extension": ".py",
   "mimetype": "text/x-python",
   "name": "python",
   "nbconvert_exporter": "python",
   "pygments_lexer": "ipython3",
   "version": "3.10.9"
  },
  "toc": {
   "base_numbering": 1,
   "nav_menu": {},
   "number_sections": true,
   "sideBar": true,
   "skip_h1_title": false,
   "title_cell": "Table of Contents",
   "title_sidebar": "Contents",
   "toc_cell": false,
   "toc_position": {
    "height": "calc(100% - 180px)",
    "left": "10px",
    "top": "150px",
    "width": "288px"
   },
   "toc_section_display": true,
   "toc_window_display": false
  }
 },
 "nbformat": 4,
 "nbformat_minor": 5
}
